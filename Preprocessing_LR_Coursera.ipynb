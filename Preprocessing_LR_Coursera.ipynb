{
  "nbformat": 4,
  "nbformat_minor": 0,
  "metadata": {
    "kernelspec": {
      "display_name": "Python 3",
      "language": "python",
      "name": "python3"
    },
    "language_info": {
      "codemirror_mode": {
        "name": "ipython",
        "version": 3
      },
      "file_extension": ".py",
      "mimetype": "text/x-python",
      "name": "python",
      "nbconvert_exporter": "python",
      "pygments_lexer": "ipython3",
      "version": "3.6.8"
    },
    "colab": {
      "name": "Preprocessing_LR_Coursera_2.ipynb",
      "provenance": [],
      "collapsed_sections": [
        "I1tOE8Tx4ibX",
        "09RLvDs54ibY"
      ],
      "toc_visible": true,
      "include_colab_link": true
    }
  },
  "cells": [
    {
      "cell_type": "markdown",
      "metadata": {
        "id": "view-in-github",
        "colab_type": "text"
      },
      "source": [
        "<a href=\"https://colab.research.google.com/github/zqiaohe/datascience/blob/master/Preprocessing_LR_Coursera.ipynb\" target=\"_parent\"><img src=\"https://colab.research.google.com/assets/colab-badge.svg\" alt=\"Open In Colab\"/></a>"
      ]
    },
    {
      "cell_type": "markdown",
      "metadata": {
        "id": "qFbnirP54iZQ",
        "colab_type": "text"
      },
      "source": [
        "**Корректность проверена на Python 3.6:**\n",
        "+ pandas 0.23.4\n",
        "+ numpy 1.15.4\n",
        "+ matplotlib 3.0.2\n",
        "+ sklearn 0.20.2"
      ]
    },
    {
      "cell_type": "code",
      "metadata": {
        "id": "MNHIHNrv9vc5",
        "colab_type": "code",
        "colab": {
          "base_uri": "https://localhost:8080/",
          "height": 281
        },
        "outputId": "14208655-025c-4f0c-fd6d-1eaab9cce997"
      },
      "source": [
        "!pip install pandas==0.23.4\n",
        "!pip install numpy==1.15.4\n",
        "!pip install matplotlib==3.0.2\n",
        "!pip install sklearn==0.20.2"
      ],
      "execution_count": 1,
      "outputs": [
        {
          "output_type": "stream",
          "text": [
            "Requirement already satisfied: pandas==0.23.4 in /usr/local/lib/python3.6/dist-packages (0.23.4)\n",
            "Requirement already satisfied: pytz>=2011k in /usr/local/lib/python3.6/dist-packages (from pandas==0.23.4) (2018.9)\n",
            "Requirement already satisfied: python-dateutil>=2.5.0 in /usr/local/lib/python3.6/dist-packages (from pandas==0.23.4) (2.8.1)\n",
            "Requirement already satisfied: numpy>=1.9.0 in /usr/local/lib/python3.6/dist-packages (from pandas==0.23.4) (1.15.4)\n",
            "Requirement already satisfied: six>=1.5 in /usr/local/lib/python3.6/dist-packages (from python-dateutil>=2.5.0->pandas==0.23.4) (1.15.0)\n",
            "Requirement already satisfied: numpy==1.15.4 in /usr/local/lib/python3.6/dist-packages (1.15.4)\n",
            "Requirement already satisfied: matplotlib==3.0.2 in /usr/local/lib/python3.6/dist-packages (3.0.2)\n",
            "Requirement already satisfied: cycler>=0.10 in /usr/local/lib/python3.6/dist-packages (from matplotlib==3.0.2) (0.10.0)\n",
            "Requirement already satisfied: python-dateutil>=2.1 in /usr/local/lib/python3.6/dist-packages (from matplotlib==3.0.2) (2.8.1)\n",
            "Requirement already satisfied: pyparsing!=2.0.4,!=2.1.2,!=2.1.6,>=2.0.1 in /usr/local/lib/python3.6/dist-packages (from matplotlib==3.0.2) (2.4.7)\n",
            "Requirement already satisfied: kiwisolver>=1.0.1 in /usr/local/lib/python3.6/dist-packages (from matplotlib==3.0.2) (1.2.0)\n",
            "Requirement already satisfied: numpy>=1.10.0 in /usr/local/lib/python3.6/dist-packages (from matplotlib==3.0.2) (1.15.4)\n",
            "Requirement already satisfied: six in /usr/local/lib/python3.6/dist-packages (from cycler>=0.10->matplotlib==3.0.2) (1.15.0)\n",
            "\u001b[31mERROR: Could not find a version that satisfies the requirement sklearn==0.20.2 (from versions: 0.0)\u001b[0m\n",
            "\u001b[31mERROR: No matching distribution found for sklearn==0.20.2\u001b[0m\n"
          ],
          "name": "stdout"
        }
      ]
    },
    {
      "cell_type": "code",
      "metadata": {
        "id": "TwkLrhw14iZR",
        "colab_type": "code",
        "colab": {}
      },
      "source": [
        "import warnings\n",
        "warnings.filterwarnings('ignore')"
      ],
      "execution_count": 2,
      "outputs": []
    },
    {
      "cell_type": "markdown",
      "metadata": {
        "id": "M-SMgRr44iZX",
        "colab_type": "text"
      },
      "source": [
        "## Предобработка данных и логистическая регрессия для задачи бинарной классификации"
      ]
    },
    {
      "cell_type": "markdown",
      "metadata": {
        "id": "HUyw1srA4iZY",
        "colab_type": "text"
      },
      "source": [
        "## Programming assignment"
      ]
    },
    {
      "cell_type": "markdown",
      "metadata": {
        "id": "LWP0zPaL4iZZ",
        "colab_type": "text"
      },
      "source": [
        "В задании вам будет предложено ознакомиться с основными техниками предобработки данных, а так же применить их для обучения модели логистической регрессии. Ответ потребуется загрузить в соответствующую форму в виде 6 текстовых файлов."
      ]
    },
    {
      "cell_type": "code",
      "metadata": {
        "id": "0EJkGuIb4iZa",
        "colab_type": "code",
        "colab": {}
      },
      "source": [
        "import pandas as pd\n",
        "import numpy as np\n",
        "import matplotlib\n",
        "from matplotlib import pyplot as plt\n",
        "matplotlib.style.use('ggplot')\n",
        "%matplotlib inline\n",
        "\n",
        "import warnings\n",
        "warnings.filterwarnings('ignore')"
      ],
      "execution_count": 3,
      "outputs": []
    },
    {
      "cell_type": "markdown",
      "metadata": {
        "id": "NomHefBO4iZd",
        "colab_type": "text"
      },
      "source": [
        "## Описание датасета"
      ]
    },
    {
      "cell_type": "markdown",
      "metadata": {
        "id": "WOrmhL7v4iZe",
        "colab_type": "text"
      },
      "source": [
        "Задача: по 38 признакам, связанных с заявкой на грант (область исследований учёных, информация по их академическому бэкграунду, размер гранта, область, в которой он выдаётся) предсказать, будет ли заявка принята. Датасет включает в себя информацию по 6000 заявкам на гранты, которые были поданы в университете Мельбурна в период с 2004 по 2008 год.\n",
        "\n",
        "Полную версию данных с большим количеством признаков можно найти на https://www.kaggle.com/c/unimelb."
      ]
    },
    {
      "cell_type": "code",
      "metadata": {
        "id": "yIQlpPga5UGH",
        "colab_type": "code",
        "colab": {
          "base_uri": "https://localhost:8080/",
          "height": 118
        },
        "outputId": "38c9ed4b-de50-49f7-918f-a9841e06d2a9"
      },
      "source": [
        "from google.colab import drive\n",
        "drive.mount('/content/drive')"
      ],
      "execution_count": 4,
      "outputs": [
        {
          "output_type": "stream",
          "text": [
            "Go to this URL in a browser: https://accounts.google.com/o/oauth2/auth?client_id=947318989803-6bn6qk8qdgf4n4g3pfee6491hc0brc4i.apps.googleusercontent.com&redirect_uri=urn%3aietf%3awg%3aoauth%3a2.0%3aoob&response_type=code&scope=email%20https%3a%2f%2fwww.googleapis.com%2fauth%2fdocs.test%20https%3a%2f%2fwww.googleapis.com%2fauth%2fdrive%20https%3a%2f%2fwww.googleapis.com%2fauth%2fdrive.photos.readonly%20https%3a%2f%2fwww.googleapis.com%2fauth%2fpeopleapi.readonly\n",
            "\n",
            "Enter your authorization code:\n",
            "··········\n",
            "Mounted at /content/drive\n"
          ],
          "name": "stdout"
        }
      ]
    },
    {
      "cell_type": "code",
      "metadata": {
        "id": "saCpg-HC4iZe",
        "colab_type": "code",
        "colab": {
          "base_uri": "https://localhost:8080/",
          "height": 33
        },
        "outputId": "1598d745-fdc1-47f5-8db6-fc9f0ee9c063"
      },
      "source": [
        "data = pd.read_csv('/content/drive/My Drive/datascience/3_week_data.csv')\n",
        "data.shape"
      ],
      "execution_count": 5,
      "outputs": [
        {
          "output_type": "execute_result",
          "data": {
            "text/plain": [
              "(6000, 39)"
            ]
          },
          "metadata": {
            "tags": []
          },
          "execution_count": 5
        }
      ]
    },
    {
      "cell_type": "markdown",
      "metadata": {
        "id": "ieMwee_D4iZi",
        "colab_type": "text"
      },
      "source": [
        "Выделим из датасета целевую переменную Grant.Status и обозначим её за y\n",
        "Теперь X обозначает обучающую выборку, y - ответы на ней"
      ]
    },
    {
      "cell_type": "code",
      "metadata": {
        "id": "420MMEOP4iZi",
        "colab_type": "code",
        "colab": {}
      },
      "source": [
        "X = data.drop('Grant.Status', 1)\n",
        "y = data['Grant.Status']"
      ],
      "execution_count": 6,
      "outputs": []
    },
    {
      "cell_type": "markdown",
      "metadata": {
        "id": "Wc-UZitQ4iZl",
        "colab_type": "text"
      },
      "source": [
        "## Теория по логистической регрессии"
      ]
    },
    {
      "cell_type": "markdown",
      "metadata": {
        "id": "BsvrnJYR4iZn",
        "colab_type": "text"
      },
      "source": [
        "После осознания того, какую именно задачу требуется решить на этих данных, следующим шагом при реальном анализе был бы подбор подходящего метода. В данном задании выбор метода было произведён за вас, это логистическая регрессия. Кратко напомним вам используемую модель.\n",
        "\n",
        "Логистическая регрессия предсказывает вероятности принадлежности объекта к каждому классу. Сумма ответов логистической регрессии на одном объекте для всех классов равна единице.\n",
        "\n",
        "$$ \\sum_{k=1}^K \\pi_{ik} = 1, \\quad \\pi_k \\equiv P\\,(y_i = k \\mid x_i, \\theta), $$\n",
        "\n",
        "где:\n",
        "- $\\pi_{ik}$ - вероятность принадлежности объекта $x_i$ из выборки $X$ к классу $k$\n",
        "- $\\theta$ - внутренние параметры алгоритма, которые настраиваются в процессе обучения, в случае логистической регрессии - $w, b$\n",
        "\n",
        "Из этого свойства модели в случае бинарной классификации требуется вычислить лишь вероятность принадлежности объекта к одному из классов (вторая вычисляется из условия нормировки вероятностей). Эта вероятность вычисляется, используя логистическую функцию:\n",
        "\n",
        "$$ P\\,(y_i = 1 \\mid x_i, \\theta) = \\frac{1}{1 + \\exp(-w^T x_i-b)} $$\n",
        "\n",
        "Параметры $w$ и $b$ находятся, как решения следующей задачи оптимизации (указаны функционалы с L1 и L2 регуляризацией, с которыми вы познакомились в предыдущих заданиях):\n",
        "\n",
        "L2-regularization:\n",
        "\n",
        "$$ Q(X, y, \\theta) = \\frac{1}{2} w^T w + C \\sum_{i=1}^l \\log ( 1 + \\exp(-y_i (w^T x_i + b ) ) ) \\longrightarrow \\min\\limits_{w,b} $$\n",
        "\n",
        "L1-regularization:\n",
        "\n",
        "$$ Q(X, y, \\theta) = \\sum_{d=1}^D |w_d| + C \\sum_{i=1}^l \\log ( 1 + \\exp(-y_i (w^T x_i + b ) ) ) \\longrightarrow \\min\\limits_{w,b} $$\n",
        "\n",
        "$C$ - это стандартный гиперпараметр модели, который регулирует то, насколько сильно мы позволяем модели подстраиваться под данные."
      ]
    },
    {
      "cell_type": "markdown",
      "metadata": {
        "id": "mtGQo-2I4iZo",
        "colab_type": "text"
      },
      "source": [
        "## Предобработка данных"
      ]
    },
    {
      "cell_type": "markdown",
      "metadata": {
        "id": "uA-X8bww4iZp",
        "colab_type": "text"
      },
      "source": [
        "Из свойств данной модели следует, что:\n",
        "- все $X$ должны быть числовыми данными (в случае наличия среди них категорий, их требуется некоторым способом преобразовать в вещественные числа)\n",
        "- среди $X$ не должно быть пропущенных значений (т.е. все пропущенные значения перед применением модели следует каким-то образом заполнить)\n",
        "\n",
        "Поэтому базовым этапом в предобработке любого датасета для логистической регрессии будет кодирование категориальных признаков, а так же удаление или интерпретация пропущенных значений (при наличии того или другого)."
      ]
    },
    {
      "cell_type": "code",
      "metadata": {
        "id": "LGG-MXLe4iZq",
        "colab_type": "code",
        "colab": {
          "base_uri": "https://localhost:8080/",
          "height": 211
        },
        "outputId": "4df1604b-6558-4a4b-c872-8d0d07945de4"
      },
      "source": [
        "data.head()"
      ],
      "execution_count": 7,
      "outputs": [
        {
          "output_type": "execute_result",
          "data": {
            "text/html": [
              "<div>\n",
              "<style scoped>\n",
              "    .dataframe tbody tr th:only-of-type {\n",
              "        vertical-align: middle;\n",
              "    }\n",
              "\n",
              "    .dataframe tbody tr th {\n",
              "        vertical-align: top;\n",
              "    }\n",
              "\n",
              "    .dataframe thead th {\n",
              "        text-align: right;\n",
              "    }\n",
              "</style>\n",
              "<table border=\"1\" class=\"dataframe\">\n",
              "  <thead>\n",
              "    <tr style=\"text-align: right;\">\n",
              "      <th></th>\n",
              "      <th>Grant.Status</th>\n",
              "      <th>Sponsor.Code</th>\n",
              "      <th>Grant.Category.Code</th>\n",
              "      <th>Contract.Value.Band...see.note.A</th>\n",
              "      <th>RFCD.Code.1</th>\n",
              "      <th>RFCD.Percentage.1</th>\n",
              "      <th>RFCD.Code.2</th>\n",
              "      <th>RFCD.Percentage.2</th>\n",
              "      <th>RFCD.Code.3</th>\n",
              "      <th>RFCD.Percentage.3</th>\n",
              "      <th>RFCD.Code.4</th>\n",
              "      <th>RFCD.Percentage.4</th>\n",
              "      <th>RFCD.Code.5</th>\n",
              "      <th>RFCD.Percentage.5</th>\n",
              "      <th>SEO.Code.1</th>\n",
              "      <th>SEO.Percentage.1</th>\n",
              "      <th>SEO.Code.2</th>\n",
              "      <th>SEO.Percentage.2</th>\n",
              "      <th>SEO.Code.3</th>\n",
              "      <th>SEO.Percentage.3</th>\n",
              "      <th>SEO.Code.4</th>\n",
              "      <th>SEO.Percentage.4</th>\n",
              "      <th>SEO.Code.5</th>\n",
              "      <th>SEO.Percentage.5</th>\n",
              "      <th>Person.ID.1</th>\n",
              "      <th>Role.1</th>\n",
              "      <th>Year.of.Birth.1</th>\n",
              "      <th>Country.of.Birth.1</th>\n",
              "      <th>Home.Language.1</th>\n",
              "      <th>Dept.No..1</th>\n",
              "      <th>Faculty.No..1</th>\n",
              "      <th>With.PHD.1</th>\n",
              "      <th>No..of.Years.in.Uni.at.Time.of.Grant.1</th>\n",
              "      <th>Number.of.Successful.Grant.1</th>\n",
              "      <th>Number.of.Unsuccessful.Grant.1</th>\n",
              "      <th>A..1</th>\n",
              "      <th>A.1</th>\n",
              "      <th>B.1</th>\n",
              "      <th>C.1</th>\n",
              "    </tr>\n",
              "  </thead>\n",
              "  <tbody>\n",
              "    <tr>\n",
              "      <th>0</th>\n",
              "      <td>1</td>\n",
              "      <td>21A</td>\n",
              "      <td>50A</td>\n",
              "      <td>A</td>\n",
              "      <td>230202.0</td>\n",
              "      <td>50.0</td>\n",
              "      <td>230203.0</td>\n",
              "      <td>30.0</td>\n",
              "      <td>230204.0</td>\n",
              "      <td>20.0</td>\n",
              "      <td>0.0</td>\n",
              "      <td>0.0</td>\n",
              "      <td>0.0</td>\n",
              "      <td>0.0</td>\n",
              "      <td>780101.0</td>\n",
              "      <td>100.0</td>\n",
              "      <td>0.0</td>\n",
              "      <td>0.0</td>\n",
              "      <td>0.0</td>\n",
              "      <td>0.0</td>\n",
              "      <td>0.0</td>\n",
              "      <td>0.0</td>\n",
              "      <td>0.0</td>\n",
              "      <td>0.0</td>\n",
              "      <td>493297.0</td>\n",
              "      <td>CHIEF_INVESTIGATOR</td>\n",
              "      <td>1965.0</td>\n",
              "      <td>Australia</td>\n",
              "      <td>NaN</td>\n",
              "      <td>3098.0</td>\n",
              "      <td>31.0</td>\n",
              "      <td>Yes</td>\n",
              "      <td>&gt;=0 to 5</td>\n",
              "      <td>2.0</td>\n",
              "      <td>0.0</td>\n",
              "      <td>0.0</td>\n",
              "      <td>4.0</td>\n",
              "      <td>2.0</td>\n",
              "      <td>0.0</td>\n",
              "    </tr>\n",
              "    <tr>\n",
              "      <th>1</th>\n",
              "      <td>1</td>\n",
              "      <td>4D</td>\n",
              "      <td>10A</td>\n",
              "      <td>D</td>\n",
              "      <td>320801.0</td>\n",
              "      <td>100.0</td>\n",
              "      <td>0.0</td>\n",
              "      <td>0.0</td>\n",
              "      <td>0.0</td>\n",
              "      <td>0.0</td>\n",
              "      <td>0.0</td>\n",
              "      <td>0.0</td>\n",
              "      <td>0.0</td>\n",
              "      <td>0.0</td>\n",
              "      <td>730112.0</td>\n",
              "      <td>100.0</td>\n",
              "      <td>0.0</td>\n",
              "      <td>0.0</td>\n",
              "      <td>0.0</td>\n",
              "      <td>0.0</td>\n",
              "      <td>0.0</td>\n",
              "      <td>0.0</td>\n",
              "      <td>0.0</td>\n",
              "      <td>0.0</td>\n",
              "      <td>330592.0</td>\n",
              "      <td>CHIEF_INVESTIGATOR</td>\n",
              "      <td>1965.0</td>\n",
              "      <td>Australia</td>\n",
              "      <td>NaN</td>\n",
              "      <td>2553.0</td>\n",
              "      <td>25.0</td>\n",
              "      <td>Yes</td>\n",
              "      <td>&gt;=0 to 5</td>\n",
              "      <td>3.0</td>\n",
              "      <td>1.0</td>\n",
              "      <td>0.0</td>\n",
              "      <td>2.0</td>\n",
              "      <td>0.0</td>\n",
              "      <td>0.0</td>\n",
              "    </tr>\n",
              "    <tr>\n",
              "      <th>2</th>\n",
              "      <td>0</td>\n",
              "      <td>NaN</td>\n",
              "      <td>NaN</td>\n",
              "      <td>NaN</td>\n",
              "      <td>320602.0</td>\n",
              "      <td>50.0</td>\n",
              "      <td>321004.0</td>\n",
              "      <td>30.0</td>\n",
              "      <td>321015.0</td>\n",
              "      <td>20.0</td>\n",
              "      <td>0.0</td>\n",
              "      <td>0.0</td>\n",
              "      <td>0.0</td>\n",
              "      <td>0.0</td>\n",
              "      <td>730203.0</td>\n",
              "      <td>60.0</td>\n",
              "      <td>730105.0</td>\n",
              "      <td>20.0</td>\n",
              "      <td>730108.0</td>\n",
              "      <td>20.0</td>\n",
              "      <td>0.0</td>\n",
              "      <td>0.0</td>\n",
              "      <td>0.0</td>\n",
              "      <td>0.0</td>\n",
              "      <td>66887.0</td>\n",
              "      <td>CHIEF_INVESTIGATOR</td>\n",
              "      <td>1955.0</td>\n",
              "      <td>Australia</td>\n",
              "      <td>NaN</td>\n",
              "      <td>2813.0</td>\n",
              "      <td>25.0</td>\n",
              "      <td>NaN</td>\n",
              "      <td>Less than 0</td>\n",
              "      <td>1.0</td>\n",
              "      <td>5.0</td>\n",
              "      <td>0.0</td>\n",
              "      <td>7.0</td>\n",
              "      <td>2.0</td>\n",
              "      <td>0.0</td>\n",
              "    </tr>\n",
              "    <tr>\n",
              "      <th>3</th>\n",
              "      <td>0</td>\n",
              "      <td>51C</td>\n",
              "      <td>20C</td>\n",
              "      <td>A</td>\n",
              "      <td>291503.0</td>\n",
              "      <td>60.0</td>\n",
              "      <td>321402.0</td>\n",
              "      <td>40.0</td>\n",
              "      <td>0.0</td>\n",
              "      <td>0.0</td>\n",
              "      <td>0.0</td>\n",
              "      <td>0.0</td>\n",
              "      <td>0.0</td>\n",
              "      <td>0.0</td>\n",
              "      <td>730114.0</td>\n",
              "      <td>60.0</td>\n",
              "      <td>671401.0</td>\n",
              "      <td>40.0</td>\n",
              "      <td>0.0</td>\n",
              "      <td>0.0</td>\n",
              "      <td>0.0</td>\n",
              "      <td>0.0</td>\n",
              "      <td>0.0</td>\n",
              "      <td>0.0</td>\n",
              "      <td>63812.0</td>\n",
              "      <td>CHIEF_INVESTIGATOR</td>\n",
              "      <td>1950.0</td>\n",
              "      <td>Great Britain</td>\n",
              "      <td>NaN</td>\n",
              "      <td>2553.0</td>\n",
              "      <td>25.0</td>\n",
              "      <td>NaN</td>\n",
              "      <td>more than 15</td>\n",
              "      <td>2.0</td>\n",
              "      <td>1.0</td>\n",
              "      <td>5.0</td>\n",
              "      <td>6.0</td>\n",
              "      <td>9.0</td>\n",
              "      <td>1.0</td>\n",
              "    </tr>\n",
              "    <tr>\n",
              "      <th>4</th>\n",
              "      <td>0</td>\n",
              "      <td>24D</td>\n",
              "      <td>30B</td>\n",
              "      <td>NaN</td>\n",
              "      <td>380107.0</td>\n",
              "      <td>100.0</td>\n",
              "      <td>0.0</td>\n",
              "      <td>0.0</td>\n",
              "      <td>0.0</td>\n",
              "      <td>0.0</td>\n",
              "      <td>0.0</td>\n",
              "      <td>0.0</td>\n",
              "      <td>0.0</td>\n",
              "      <td>0.0</td>\n",
              "      <td>730108.0</td>\n",
              "      <td>50.0</td>\n",
              "      <td>730306.0</td>\n",
              "      <td>50.0</td>\n",
              "      <td>0.0</td>\n",
              "      <td>0.0</td>\n",
              "      <td>0.0</td>\n",
              "      <td>0.0</td>\n",
              "      <td>0.0</td>\n",
              "      <td>0.0</td>\n",
              "      <td>13687.0</td>\n",
              "      <td>CHIEF_INVESTIGATOR</td>\n",
              "      <td>1970.0</td>\n",
              "      <td>Australia</td>\n",
              "      <td>NaN</td>\n",
              "      <td>2923.0</td>\n",
              "      <td>25.0</td>\n",
              "      <td>NaN</td>\n",
              "      <td>Less than 0</td>\n",
              "      <td>0.0</td>\n",
              "      <td>2.0</td>\n",
              "      <td>0.0</td>\n",
              "      <td>0.0</td>\n",
              "      <td>0.0</td>\n",
              "      <td>0.0</td>\n",
              "    </tr>\n",
              "  </tbody>\n",
              "</table>\n",
              "</div>"
            ],
            "text/plain": [
              "   Grant.Status Sponsor.Code Grant.Category.Code ...   A.1  B.1  C.1\n",
              "0             1          21A                 50A ...   4.0  2.0  0.0\n",
              "1             1           4D                 10A ...   2.0  0.0  0.0\n",
              "2             0          NaN                 NaN ...   7.0  2.0  0.0\n",
              "3             0          51C                 20C ...   6.0  9.0  1.0\n",
              "4             0          24D                 30B ...   0.0  0.0  0.0\n",
              "\n",
              "[5 rows x 39 columns]"
            ]
          },
          "metadata": {
            "tags": []
          },
          "execution_count": 7
        }
      ]
    },
    {
      "cell_type": "markdown",
      "metadata": {
        "id": "E3ztmqZi4iZt",
        "colab_type": "text"
      },
      "source": [
        "Видно, что в датасете есть как числовые, так и категориальные признаки. Получим списки их названий:"
      ]
    },
    {
      "cell_type": "code",
      "metadata": {
        "id": "awdqfWp24iZu",
        "colab_type": "code",
        "colab": {}
      },
      "source": [
        "numeric_cols = ['RFCD.Percentage.1', 'RFCD.Percentage.2', 'RFCD.Percentage.3', \n",
        "                'RFCD.Percentage.4', 'RFCD.Percentage.5',\n",
        "                'SEO.Percentage.1', 'SEO.Percentage.2', 'SEO.Percentage.3',\n",
        "                'SEO.Percentage.4', 'SEO.Percentage.5',\n",
        "                'Year.of.Birth.1', 'Number.of.Successful.Grant.1', 'Number.of.Unsuccessful.Grant.1']\n",
        "categorical_cols = list(set(X.columns.values.tolist()) - set(numeric_cols))"
      ],
      "execution_count": 8,
      "outputs": []
    },
    {
      "cell_type": "markdown",
      "metadata": {
        "id": "qQY5a6SM4iZx",
        "colab_type": "text"
      },
      "source": [
        "Также в нём присутствуют пропущенные значения. Очевидны решением будет исключение всех данных, у которых пропущено хотя бы одно значение. Сделаем это:"
      ]
    },
    {
      "cell_type": "code",
      "metadata": {
        "id": "rz86HsAN4iZy",
        "colab_type": "code",
        "colab": {
          "base_uri": "https://localhost:8080/",
          "height": 33
        },
        "outputId": "3c255565-a9d3-4aca-9737-e55d18fb267a"
      },
      "source": [
        "data.dropna().shape"
      ],
      "execution_count": 9,
      "outputs": [
        {
          "output_type": "execute_result",
          "data": {
            "text/plain": [
              "(213, 39)"
            ]
          },
          "metadata": {
            "tags": []
          },
          "execution_count": 9
        }
      ]
    },
    {
      "cell_type": "markdown",
      "metadata": {
        "id": "7QEuYWLk4iZ1",
        "colab_type": "text"
      },
      "source": [
        "Видно, что тогда мы выбросим почти все данные, и такой метод решения в данном случае не сработает.\n",
        "\n",
        "Пропущенные значения можно так же интерпретировать, для этого существует несколько способов, они различаются для категориальных и вещественных признаков.\n",
        "\n",
        "Для вещественных признаков:\n",
        "- заменить на 0 (данный признак давать вклад в предсказание для данного объекта не будет)\n",
        "- заменить на среднее (каждый пропущенный признак будет давать такой же вклад, как и среднее значение признака на датасете)\n",
        "\n",
        "Для категориальных:\n",
        "- интерпретировать пропущенное значение, как ещё одну категорию (данный способ является самым естественным, так как в случае категорий у нас есть уникальная возможность не потерять информацию о наличии пропущенных значений; обратите внимание, что в случае вещественных признаков данная информация неизбежно теряется)"
      ]
    },
    {
      "cell_type": "markdown",
      "metadata": {
        "id": "ulKioGzZ4iZ1",
        "colab_type": "text"
      },
      "source": [
        "##  Задание 0. Обработка пропущенных значений.\n",
        "1. Заполните пропущенные вещественные значения в X нулями и средними по столбцам, назовите полученные датафреймы X_real_zeros и X_real_mean соответственно. Для подсчёта средних используйте описанную ниже функцию calculate_means, которой требуется передать на вход вешественные признаки из исходного датафрейма. **Для подсчета среднего можно использовать функцию pandas.mean()**\n",
        "2. Все категориальные признаки в X преобразуйте в строки, пропущенные значения требуется также преобразовать в какие-либо строки, которые не являются категориями (например, 'NA'), полученный датафрейм назовите X_cat.\n",
        "\n",
        "Для объединения выборок здесь и далее в задании рекомендуется использовать функции\n",
        "\n",
        "    np.hstack(...)\n",
        "    np.vstack(...)"
      ]
    },
    {
      "cell_type": "code",
      "metadata": {
        "id": "Ygc6_-r04iZ2",
        "colab_type": "code",
        "colab": {}
      },
      "source": [
        "def calculate_means(numeric_data):\n",
        "    means = np.zeros(numeric_data.shape[1])\n",
        "    for j in range(numeric_data.shape[1]):\n",
        "        to_sum = numeric_data.iloc[:,j]\n",
        "        indices = np.nonzero(~numeric_data.iloc[:,j].isnull())[0]\n",
        "        correction = np.amax(to_sum[indices])\n",
        "        to_sum /= correction\n",
        "        for i in indices:\n",
        "            means[j] += to_sum[i]\n",
        "        means[j] /= indices.size\n",
        "        means[j] *= correction\n",
        "    return pd.Series(means, numeric_data.columns)"
      ],
      "execution_count": null,
      "outputs": []
    },
    {
      "cell_type": "code",
      "metadata": {
        "id": "wK8LOFpH4iZ6",
        "colab_type": "code",
        "colab": {}
      },
      "source": [
        "X_real_zeros = X[numeric_cols].fillna(0)\n",
        "X_real_mean = X[numeric_cols].fillna(X.mean())\n",
        "X_cat = X[categorical_cols].fillna('NA').astype(str)"
      ],
      "execution_count": 10,
      "outputs": []
    },
    {
      "cell_type": "markdown",
      "metadata": {
        "id": "Nkz2jU_n4iZ_",
        "colab_type": "text"
      },
      "source": [
        "## Преобразование категориальных признаков."
      ]
    },
    {
      "cell_type": "markdown",
      "metadata": {
        "id": "iey4pdTP4iZ_",
        "colab_type": "text"
      },
      "source": [
        "В предыдущей ячейке мы разделили наш датасет ещё на две части: в одной присутствуют только вещественные признаки, в другой только категориальные. Это понадобится нам для раздельной последующей обработке этих данных, а так же для сравнения качества работы тех или иных методов.\n",
        "\n",
        "Для использования модели регрессии требуется преобразовать категориальные признаки в вещественные. Рассмотрим основной способ преоборазования категориальных признаков в вещественные: one-hot encoding. Его идея заключается в том, что мы преобразуем категориальный признак при помощи бинарного кода: каждой категории ставим в соответствие набор из нулей и единиц.\n",
        "\n",
        "Посмотрим, как данный метод работает на простом наборе данных."
      ]
    },
    {
      "cell_type": "code",
      "metadata": {
        "id": "9GpTGa1d4iaA",
        "colab_type": "code",
        "colab": {
          "base_uri": "https://localhost:8080/",
          "height": 245
        },
        "outputId": "c2a7b21a-b6cd-4ed8-bd2d-7ea03a073bcf"
      },
      "source": [
        "from sklearn.linear_model import LogisticRegression as LR\n",
        "from sklearn.feature_extraction import DictVectorizer as DV\n",
        "\n",
        "categorial_data = pd.DataFrame({'sex': ['male', 'female', 'male', 'female'], \n",
        "                                'nationality': ['American', 'European', 'Asian', 'European']})\n",
        "print('Исходные данные:\\n')\n",
        "print(categorial_data)\n",
        "encoder = DV(sparse = False)\n",
        "encoded_data = encoder.fit_transform(categorial_data.T.to_dict().values())\n",
        "print('\\nЗакодированные данные:\\n')\n",
        "print(encoded_data)"
      ],
      "execution_count": 11,
      "outputs": [
        {
          "output_type": "stream",
          "text": [
            "Исходные данные:\n",
            "\n",
            "      sex nationality\n",
            "0    male    American\n",
            "1  female    European\n",
            "2    male       Asian\n",
            "3  female    European\n",
            "\n",
            "Закодированные данные:\n",
            "\n",
            "[[1. 0. 0. 0. 1.]\n",
            " [0. 0. 1. 1. 0.]\n",
            " [0. 1. 0. 0. 1.]\n",
            " [0. 0. 1. 1. 0.]]\n"
          ],
          "name": "stdout"
        }
      ]
    },
    {
      "cell_type": "markdown",
      "metadata": {
        "id": "29YYmXB94iaD",
        "colab_type": "text"
      },
      "source": [
        "Как видно, в первые три колонки оказалась закодированна информация о стране, а во вторые две - о поле. При этом для совпадающих элементов выборки строки будут полностью совпадать. Также из примера видно, что кодирование признаков сильно увеличивает их количество, но полностью сохраняет информацию, в том числе о наличии пропущенных значений (их наличие просто становится одним из бинарных признаков в преобразованных данных).\n",
        "\n",
        "Теперь применим one-hot encoding к категориальным признакам из исходного датасета. Обратите внимание на общий для всех методов преобработки данных интерфейс. Функция\n",
        "\n",
        "    encoder.fit_transform(X)\n",
        "    \n",
        "позволяет вычислить необходимые параметры преобразования, впоследствии к новым данным можно уже применять функцию\n",
        "\n",
        "    encoder.transform(X)\n",
        "    \n",
        "Очень важно применять одинаковое преобразование как к обучающим, так и тестовым данным, потому что в противном случае вы получите непредсказуемые, и, скорее всего, плохие результаты. В частности, если вы отдельно закодируете обучающую и тестовую выборку, то получите вообще говоря разные коды для одних и тех же признаков, и ваше решение работать не будет.\n",
        "\n",
        "Также параметры многих преобразований (например, рассмотренное ниже масштабирование) нельзя вычислять одновременно на данных из обучения и теста, потому что иначе подсчитанные на тесте метрики качества будут давать смещённые оценки на качество работы алгоритма. Кодирование категориальных признаков не считает на обучающей выборке никаких параметров, поэтому его можно применять сразу к всему датасету."
      ]
    },
    {
      "cell_type": "code",
      "metadata": {
        "id": "zEsJHG6o4iaD",
        "colab_type": "code",
        "colab": {}
      },
      "source": [
        "encoder = DV(sparse = False)\n",
        "X_cat_oh = encoder.fit_transform(X_cat.T.to_dict().values())"
      ],
      "execution_count": 12,
      "outputs": []
    },
    {
      "cell_type": "code",
      "metadata": {
        "id": "_cN08Blt6zdy",
        "colab_type": "code",
        "colab": {
          "base_uri": "https://localhost:8080/",
          "height": 131
        },
        "outputId": "135335c4-bd8e-4fb6-d640-a36892b8cc85"
      },
      "source": [
        "X_cat_oh\n"
      ],
      "execution_count": 13,
      "outputs": [
        {
          "output_type": "execute_result",
          "data": {
            "text/plain": [
              "array([[1., 0., 0., ..., 0., 0., 1.],\n",
              "       [1., 0., 0., ..., 0., 0., 1.],\n",
              "       [1., 0., 0., ..., 1., 1., 0.],\n",
              "       ...,\n",
              "       [0., 0., 0., ..., 0., 0., 1.],\n",
              "       [1., 0., 0., ..., 1., 1., 0.],\n",
              "       [1., 0., 0., ..., 0., 1., 0.]])"
            ]
          },
          "metadata": {
            "tags": []
          },
          "execution_count": 13
        }
      ]
    },
    {
      "cell_type": "markdown",
      "metadata": {
        "id": "QTXC7R7K4iaG",
        "colab_type": "text"
      },
      "source": [
        "Для построения метрики качества по результату обучения требуется разделить исходный датасет на обучающую и тестовую выборки.\n",
        "\n",
        "Обращаем внимание на заданный параметр для генератора случайных чисел: random_state. Так как результаты на обучении и тесте будут зависеть от того, как именно вы разделите объекты, то предлагается использовать заранее определённое значение для получение результатов, согласованных с ответами в системе проверки заданий."
      ]
    },
    {
      "cell_type": "code",
      "metadata": {
        "id": "wd67neX_4iaH",
        "colab_type": "code",
        "colab": {}
      },
      "source": [
        "from sklearn.model_selection import train_test_split\n",
        "\n",
        "(X_train_real_zeros, \n",
        " X_test_real_zeros, \n",
        " y_train, y_test) = train_test_split(X_real_zeros, y, \n",
        "                                     test_size=0.3, \n",
        "                                     random_state=0)\n",
        "(X_train_real_mean, \n",
        " X_test_real_mean) = train_test_split(X_real_mean, \n",
        "                                      test_size=0.3, \n",
        "                                      random_state=0)\n",
        "(X_train_cat_oh,\n",
        " X_test_cat_oh) = train_test_split(X_cat_oh, \n",
        "                                   test_size=0.3, \n",
        "                                   random_state=0)"
      ],
      "execution_count": 14,
      "outputs": []
    },
    {
      "cell_type": "code",
      "metadata": {
        "id": "q4eY02ga7Cwn",
        "colab_type": "code",
        "colab": {}
      },
      "source": [
        "train_z = np.hstack([X_train_real_zeros, X_train_cat_oh])\n",
        "train_m = np.hstack([X_train_real_mean, X_train_cat_oh])"
      ],
      "execution_count": 15,
      "outputs": []
    },
    {
      "cell_type": "code",
      "metadata": {
        "id": "YFMMFr8b7oyS",
        "colab_type": "code",
        "colab": {}
      },
      "source": [
        "test_z = np.hstack([X_test_real_zeros, X_test_cat_oh])\n",
        "test_m = np.hstack([X_test_real_mean, X_test_cat_oh])"
      ],
      "execution_count": 16,
      "outputs": []
    },
    {
      "cell_type": "markdown",
      "metadata": {
        "id": "Y-iYNEEi4iaL",
        "colab_type": "text"
      },
      "source": [
        "## Описание классов"
      ]
    },
    {
      "cell_type": "markdown",
      "metadata": {
        "id": "8iENDvIV4iaM",
        "colab_type": "text"
      },
      "source": [
        "Итак, мы получили первые наборы данных, для которых выполнены оба ограничения логистической регрессии на входные данные. Обучим на них регрессию, используя имеющийся в библиотеке sklearn функционал по подбору гиперпараметров модели\n",
        "    \n",
        "    optimizer = GridSearchCV(estimator, param_grid)\n",
        "\n",
        "где:\n",
        "- estimator - обучающий алгоритм, для которого будет производиться подбор параметров\n",
        "- param_grid - словарь параметров, ключами которого являются строки-названия, которые передаются алгоритму estimator, а значения - набор параметров для перебора\n",
        "\n",
        "Данный класс выполняет кросс-валидацию обучающей выборки для каждого набора параметров и находит те, на которых алгоритм работает лучше всего. Этот метод позволяет настраивать гиперпараметры по обучающей выборке, избегая переобучения. Некоторые опциональные параметры вызова данного класса, которые нам понадобятся:\n",
        "- scoring - функционал качества, максимум которого ищется кросс валидацией, по умолчанию используется функция score() класса esimator\n",
        "- n_jobs - позволяет ускорить кросс-валидацию, выполняя её параллельно, число определяет количество одновременно запущенных задач\n",
        "- cv - количество фолдов, на которые разбивается выборка при кросс-валидации\n",
        "\n",
        "После инициализации класса GridSearchCV, процесс подбора параметров запускается следующим методом:\n",
        "\n",
        "    optimizer.fit(X, y)\n",
        "    \n",
        "На выходе для получения предсказаний можно пользоваться функцией\n",
        "\n",
        "    optimizer.predict(X)\n",
        "    \n",
        "для меток или\n",
        "\n",
        "    optimizer.predict_proba(X)\n",
        "    \n",
        "для вероятностей (в случае использования логистической регрессии).\n",
        "    \n",
        "Также можно напрямую получить оптимальный класс estimator и оптимальные параметры, так как они является атрибутами класса GridSearchCV:\n",
        "- best\\_estimator\\_ - лучший алгоритм\n",
        "- best\\_params\\_ - лучший набор параметров\n",
        "\n",
        "Класс логистической регрессии выглядит следующим образом:\n",
        "\n",
        "    estimator = LogisticRegression(penalty)\n",
        "   \n",
        "где penalty принимает либо значение 'l2', либо 'l1'. По умолчанию устанавливается значение 'l2', и везде в задании, если об этом не оговорено особо, предполагается использование логистической регрессии с L2-регуляризацией."
      ]
    },
    {
      "cell_type": "markdown",
      "metadata": {
        "id": "LPx7MW464iaN",
        "colab_type": "text"
      },
      "source": [
        "## Задание 1. Сравнение способов заполнения вещественных пропущенных значений.\n",
        "1. Составьте две обучающие выборки из вещественных и категориальных признаков: в одной вещественные признаки, где пропущенные значения заполнены нулями, в другой - средними. Рекомендуется записывать в выборки сначала вещественные, а потом категориальные признаки.\n",
        "2. Обучите на них логистическую регрессию, подбирая параметры из заданной сетки param_grid по методу кросс-валидации с числом фолдов cv=3. В качестве оптимизируемой функции используйте заданную по умолчанию.\n",
        "3. Постройте два графика оценок точности +- их стандратного отклонения в зависимости от гиперпараметра и убедитесь, что вы действительно нашли её максимум. Также обратите внимание на большую дисперсию получаемых оценок (уменьшить её можно увеличением числа фолдов cv).\n",
        "4. Получите две метрики качества AUC ROC на тестовой выборке и сравните их между собой. Какой способ заполнения пропущенных вещественных значений работает лучше? В дальнейшем для выполнения задания в качестве вещественных признаков используйте ту выборку, которая даёт лучшее качество на тесте.\n",
        "5. Передайте два значения AUC ROC (сначала для выборки, заполненной средними, потом для выборки, заполненной нулями) в функцию write_answer_1 и запустите её. Полученный файл является ответом на 1 задание.\n",
        "\n",
        "Информация для интересующихся: вообще говоря, не вполне логично оптимизировать на кросс-валидации заданный по умолчанию в классе логистической регрессии функционал accuracy, а измерять на тесте AUC ROC, но это, как и ограничение размера выборки, сделано для ускорения работы процесса кросс-валидации."
      ]
    },
    {
      "cell_type": "code",
      "metadata": {
        "id": "a25JrLMm4iaO",
        "colab_type": "code",
        "colab": {
          "base_uri": "https://localhost:8080/",
          "height": 228
        },
        "outputId": "66c52661-17c9-4c79-8992-97f12a1887db"
      },
      "source": [
        "from sklearn.linear_model import LogisticRegression\n",
        "from sklearn.model_selection import GridSearchCV\n",
        "from sklearn.metrics import roc_auc_score\n",
        "\n",
        "def plot_scores(optimizer):\n",
        "    scores=[]\n",
        "    for i in range(len(optimizer.cv_results_['params'])):\n",
        "        scores.append([optimizer.cv_results_['params'][i]['C'], \n",
        "                optimizer.cv_results_['mean_test_score'][i],\n",
        "                optimizer.cv_results_['std_test_score'][i]])\n",
        "    scores = np.array(scores)\n",
        "    plt.semilogx(scores[:,0], scores[:,1])\n",
        "    plt.fill_between(scores[:,0], scores[:,1]-scores[:,2], \n",
        "                                  scores[:,1]+scores[:,2], alpha=0.3)\n",
        "    plt.show()\n",
        "    \n",
        "def write_answer_1(auc_1, auc_2):\n",
        "    auc = (auc_1 + auc_2)/2\n",
        "    with open(\"preprocessing_lr_answer1.txt\", \"w\") as fout:\n",
        "        fout.write(str(auc))\n",
        "        \n",
        "param_grid = {'C': [0.01, 0.05, 0.1, 0.5, 1, 5, 10]}\n",
        "cv = 3\n",
        "\n",
        "optimizer_z = GridSearchCV(estimator=LogisticRegression( solver='liblinear'), param_grid=param_grid, cv=3)\n",
        "optimizer_z.fit(train_z, y_train)\n",
        "\n",
        "optimizer_m = GridSearchCV(estimator=LogisticRegression( solver='liblinear'), param_grid=param_grid, cv=3)\n",
        "optimizer_m.fit(train_m, y_train)"
      ],
      "execution_count": 17,
      "outputs": [
        {
          "output_type": "execute_result",
          "data": {
            "text/plain": [
              "GridSearchCV(cv=3, error_score=nan,\n",
              "             estimator=LogisticRegression(C=1.0, class_weight=None, dual=False,\n",
              "                                          fit_intercept=True,\n",
              "                                          intercept_scaling=1, l1_ratio=None,\n",
              "                                          max_iter=100, multi_class='auto',\n",
              "                                          n_jobs=None, penalty='l2',\n",
              "                                          random_state=None, solver='liblinear',\n",
              "                                          tol=0.0001, verbose=0,\n",
              "                                          warm_start=False),\n",
              "             iid='deprecated', n_jobs=None,\n",
              "             param_grid={'C': [0.01, 0.05, 0.1, 0.5, 1, 5, 10]},\n",
              "             pre_dispatch='2*n_jobs', refit=True, return_train_score=False,\n",
              "             scoring=None, verbose=0)"
            ]
          },
          "metadata": {
            "tags": []
          },
          "execution_count": 17
        }
      ]
    },
    {
      "cell_type": "code",
      "metadata": {
        "id": "xfNqBIIx7blG",
        "colab_type": "code",
        "colab": {
          "base_uri": "https://localhost:8080/",
          "height": 545
        },
        "outputId": "d12b40f1-ac93-4822-f3e3-86f79fad2fcf"
      },
      "source": [
        "plot_scores(optimizer_m)\n",
        "plot_scores(optimizer_z)\n",
        "auc1 = roc_auc_score(y_test, optimizer_z.predict_proba(test_z)[:,1])\n",
        "auc2 = roc_auc_score(y_test, optimizer_m.predict_proba(test_m)[:,1])\n",
        "print(auc1, auc2)\n",
        "\n",
        "write_answer_1(auc2, auc1)"
      ],
      "execution_count": 18,
      "outputs": [
        {
          "output_type": "display_data",
          "data": {
            "image/png": "[encoded data removed]",
            "text/plain": [
              "<Figure size 432x288 with 1 Axes>"
            ]
          },
          "metadata": {
            "tags": [],
            "needs_background": "light"
          }
        },
        {
          "output_type": "display_data",
          "data": {
            "image/png": "[encoded data removed]",
            "text/plain": [
              "<Figure size 432x288 with 1 Axes>"
            ]
          },
          "metadata": {
            "tags": [],
            "needs_background": "light"
          }
        },
        {
          "output_type": "stream",
          "text": [
            "0.8844392941418127 0.8854737542860183\n"
          ],
          "name": "stdout"
        }
      ]
    },
    {
      "cell_type": "markdown",
      "metadata": {
        "id": "_xBLb7IC4iaT",
        "colab_type": "text"
      },
      "source": [
        "## Масштабирование вещественных признаков."
      ]
    },
    {
      "cell_type": "markdown",
      "metadata": {
        "id": "mWi88d7R4iaU",
        "colab_type": "text"
      },
      "source": [
        "Попробуем как-то улучшить качество классификации. Для этого посмотрим на сами данные:"
      ]
    },
    {
      "cell_type": "code",
      "metadata": {
        "id": "g6NF1kIv4iaU",
        "colab_type": "code",
        "colab": {
          "base_uri": "https://localhost:8080/",
          "height": 622
        },
        "outputId": "7a26737f-0625-48c0-c2fe-6a1d0a2f4e8a"
      },
      "source": [
        "from pandas.tools.plotting import scatter_matrix\n",
        "\n",
        "data_numeric = pd.DataFrame(X_train_real_zeros, columns=numeric_cols)\n",
        "list_cols = ['Number.of.Successful.Grant.1', 'SEO.Percentage.2', 'Year.of.Birth.1']\n",
        "scatter_matrix(data_numeric[list_cols], alpha=0.5, figsize=(10, 10))\n",
        "plt.show()"
      ],
      "execution_count": 19,
      "outputs": [
        {
          "output_type": "display_data",
          "data": {
            "image/png": "[encoded data removed]",
            "text/plain": [
              "<Figure size 720x720 with 9 Axes>"
            ]
          },
          "metadata": {
            "tags": [],
            "needs_background": "light"
          }
        }
      ]
    },
    {
      "cell_type": "markdown",
      "metadata": {
        "id": "f8cFUJYk4iaX",
        "colab_type": "text"
      },
      "source": [
        "Как видно из графиков, разные признаки очень сильно отличаются друг от друга по модулю значений (обратите внимание на диапазоны значений осей x и y). В случае обычной регрессии это никак не влияет на качество обучаемой модели, т.к. у меньших по модулю признаков будут большие веса, но при использовании регуляризации, которая штрафует модель за большие веса, регрессия, как правило, начинает работать хуже.\n",
        "\n",
        "В таких случаях всегда рекомендуется делать стандартизацию (масштабирование) признаков, для того чтобы они меньше отличались друг друга по модулю, но при этом не нарушались никакие другие свойства признакового пространства. При этом даже если итоговое качество модели на тесте уменьшается, это повышает её интерпретабельность, потому что новые веса имеют смысл \"значимости\" данного признака для итоговой классификации.\n",
        "\n",
        "Стандартизация осуществляется посредством вычета из каждого признака среднего значения и нормировки на выборочное стандартное отклонение:\n",
        "\n",
        "$$ x^{scaled}_{id} = \\dfrac{x_{id} - \\mu_d}{\\sigma_d}, \\quad \\mu_d = \\frac{1}{N} \\sum_{i=1}^l x_{id}, \\quad \\sigma_d = \\sqrt{\\frac{1}{N-1} \\sum_{i=1}^l (x_{id} - \\mu_d)^2} $$"
      ]
    },
    {
      "cell_type": "markdown",
      "metadata": {
        "id": "2qWAYkge4iaX",
        "colab_type": "text"
      },
      "source": [
        "## Задание 1.5. Масштабирование вещественных признаков.\n",
        "\n",
        "1. По аналогии с вызовом one-hot encoder примените масштабирование вещественных признаков для обучающих и тестовых выборок X_train_real_zeros и X_test_real_zeros, используя класс \n",
        "\n",
        "        StandardScaler\n",
        "   \n",
        "   и методы \n",
        "\n",
        "        StandardScaler.fit_transform(...)\n",
        "        StandardScaler.transform(...)\n",
        "2. Сохраните ответ в переменные X_train_real_scaled и X_test_real_scaled соответственно"
      ]
    },
    {
      "cell_type": "code",
      "metadata": {
        "id": "E4Y98Qj-4iaY",
        "colab_type": "code",
        "colab": {}
      },
      "source": [
        "from sklearn.preprocessing import StandardScaler\n",
        "\n",
        "scaler = StandardScaler()\n",
        "X_train_real_scaled = scaler.fit_transform(X_train_real_mean)\n",
        "X_test_real_scaled = scaler.fit_transform(X_test_real_mean)\n"
      ],
      "execution_count": 20,
      "outputs": []
    },
    {
      "cell_type": "markdown",
      "metadata": {
        "id": "E81lefVS4iac",
        "colab_type": "text"
      },
      "source": [
        "## Сравнение признаковых пространств."
      ]
    },
    {
      "cell_type": "markdown",
      "metadata": {
        "id": "IyE5xuMg4iac",
        "colab_type": "text"
      },
      "source": [
        "Построим такие же графики для преобразованных данных:"
      ]
    },
    {
      "cell_type": "code",
      "metadata": {
        "id": "mE1OnoMh4iad",
        "colab_type": "code",
        "colab": {
          "base_uri": "https://localhost:8080/",
          "height": 613
        },
        "outputId": "0cd5146e-6041-4789-839b-c75abd4b9d14"
      },
      "source": [
        "data_numeric_scaled = pd.DataFrame(X_train_real_scaled, columns=numeric_cols)\n",
        "list_cols = ['Number.of.Successful.Grant.1', 'SEO.Percentage.2', 'Year.of.Birth.1']\n",
        "scatter_matrix(data_numeric_scaled[list_cols], alpha=0.5, figsize=(10, 10))\n",
        "plt.show()"
      ],
      "execution_count": 21,
      "outputs": [
        {
          "output_type": "display_data",
          "data": {
            "image/png": "[encoded data removed]",
            "text/plain": [
              "<Figure size 720x720 with 9 Axes>"
            ]
          },
          "metadata": {
            "tags": [],
            "needs_background": "light"
          }
        }
      ]
    },
    {
      "cell_type": "markdown",
      "metadata": {
        "id": "AuHF1W_F4iaf",
        "colab_type": "text"
      },
      "source": [
        "Как видно из графиков, мы не поменяли свойства признакового пространства: гистограммы распределений значений признаков, как и их scatter-plots, выглядят так же, как и до нормировки, но при этом все значения теперь находятся примерно в одном диапазоне, тем самым повышая интерпретабельность результатов, а также лучше сочетаясь с идеологией регуляризации."
      ]
    },
    {
      "cell_type": "markdown",
      "metadata": {
        "id": "KPhQSFzD4iag",
        "colab_type": "text"
      },
      "source": [
        "## Задание 2. Сравнение качества классификации до и после масштабирования вещественных признаков.\n",
        "1. Обучите ещё раз регрессию и гиперпараметры на новых признаках, объединив их с закодированными категориальными.\n",
        "2. Проверьте, был ли найден оптимум accuracy по гиперпараметрам во время кроссвалидации.\n",
        "3. Получите значение ROC AUC на тестовой выборке, сравните с лучшим результатом, полученными ранее.\n",
        "4. Запишите полученный ответ в файл при помощи функции write_answer_2."
      ]
    },
    {
      "cell_type": "code",
      "metadata": {
        "id": "--VRC1tQGqc4",
        "colab_type": "code",
        "colab": {
          "base_uri": "https://localhost:8080/",
          "height": 228
        },
        "outputId": "32ccf01e-6cd1-4073-9a4b-7da0abe28fd7"
      },
      "source": [
        "optimizer_scaled= GridSearchCV(LogisticRegression(solver=\"liblinear\"), param_grid = param_grid, cv = 3)\n",
        "optimizer_scaled.fit(np.hstack((X_train_real_scaled, X_train_cat_oh)), y_train)"
      ],
      "execution_count": 22,
      "outputs": [
        {
          "output_type": "execute_result",
          "data": {
            "text/plain": [
              "GridSearchCV(cv=3, error_score=nan,\n",
              "             estimator=LogisticRegression(C=1.0, class_weight=None, dual=False,\n",
              "                                          fit_intercept=True,\n",
              "                                          intercept_scaling=1, l1_ratio=None,\n",
              "                                          max_iter=100, multi_class='auto',\n",
              "                                          n_jobs=None, penalty='l2',\n",
              "                                          random_state=None, solver='liblinear',\n",
              "                                          tol=0.0001, verbose=0,\n",
              "                                          warm_start=False),\n",
              "             iid='deprecated', n_jobs=None,\n",
              "             param_grid={'C': [0.01, 0.05, 0.1, 0.5, 1, 5, 10]},\n",
              "             pre_dispatch='2*n_jobs', refit=True, return_train_score=False,\n",
              "             scoring=None, verbose=0)"
            ]
          },
          "metadata": {
            "tags": []
          },
          "execution_count": 22
        }
      ]
    },
    {
      "cell_type": "code",
      "metadata": {
        "id": "zkf_CIZ8HaqB",
        "colab_type": "code",
        "colab": {}
      },
      "source": [
        "auc = roc_auc_score(y_test, optimizer_scaled.predict_proba(np.hstack((X_test_real_scaled,X_test_cat_oh)))[:,1])"
      ],
      "execution_count": 24,
      "outputs": []
    },
    {
      "cell_type": "code",
      "metadata": {
        "id": "K4YOG9BhH_EG",
        "colab_type": "code",
        "colab": {
          "base_uri": "https://localhost:8080/",
          "height": 33
        },
        "outputId": "caa48815-719e-473f-b18c-cd4ace1aee88"
      },
      "source": [
        "auc"
      ],
      "execution_count": null,
      "outputs": [
        {
          "output_type": "execute_result",
          "data": {
            "text/plain": [
              "0.8871751689968831"
            ]
          },
          "metadata": {
            "tags": []
          },
          "execution_count": 34
        }
      ]
    },
    {
      "cell_type": "code",
      "metadata": {
        "id": "WLigzbhS4iag",
        "colab_type": "code",
        "colab": {}
      },
      "source": [
        "def write_answer_2(auc):\n",
        "    with open(\"preprocessing_lr_answer2.txt\", \"w\") as fout:\n",
        "        fout.write(str(auc))\n",
        "        \n",
        "# place your code here"
      ],
      "execution_count": null,
      "outputs": []
    },
    {
      "cell_type": "code",
      "metadata": {
        "id": "NYP_a4c2IH88",
        "colab_type": "code",
        "colab": {}
      },
      "source": [
        "write_answer_2(auc)"
      ],
      "execution_count": null,
      "outputs": []
    },
    {
      "cell_type": "code",
      "metadata": {
        "id": "BUT1a-ZgMeWh",
        "colab_type": "code",
        "colab": {}
      },
      "source": [
        "X_scaled_train = np.hstack((X_train_real_scaled, X_train_cat_oh))\n",
        "X_scaled_test = np.hstack((X_test_real_scaled,X_test_cat_oh))"
      ],
      "execution_count": 25,
      "outputs": []
    },
    {
      "cell_type": "markdown",
      "metadata": {
        "id": "Uq88drfe4iaj",
        "colab_type": "text"
      },
      "source": [
        "## Балансировка классов."
      ]
    },
    {
      "cell_type": "markdown",
      "metadata": {
        "id": "JrEjWLuM4iaj",
        "colab_type": "text"
      },
      "source": [
        "Алгоритмы классификации могут быть очень чувствительны к несбалансированным классам. Рассмотрим пример с выборками, сэмплированными из двух гауссиан. Их мат. ожидания и матрицы ковариации заданы так, что истинная разделяющая поверхность должна проходить параллельно оси x. Поместим в обучающую выборку 20 объектов, сэмплированных из 1-й гауссианы, и 10 объектов из 2-й. После этого обучим на них линейную регрессию, и построим на графиках объекты и области классификации."
      ]
    },
    {
      "cell_type": "code",
      "metadata": {
        "id": "zqexaUKI4iak",
        "colab_type": "code",
        "colab": {
          "base_uri": "https://localhost:8080/",
          "height": 580
        },
        "outputId": "2c0442da-76e6-48e2-9e51-fe3be887c194"
      },
      "source": [
        "np.random.seed(0)\n",
        "\"\"\"Сэмплируем данные из первой гауссианы\"\"\"\n",
        "data_0 = np.random.multivariate_normal([0,0], [[0.5,0],[0,0.5]], size=40)\n",
        "\"\"\"И из второй\"\"\"\n",
        "data_1 = np.random.multivariate_normal([0,1], [[0.5,0],[0,0.5]], size=40)\n",
        "\"\"\"На обучение берём 20 объектов из первого класса и 10 из второго\"\"\"\n",
        "example_data_train = np.vstack([data_0[:20,:], data_1[:10,:]])\n",
        "example_labels_train = np.concatenate([np.zeros((20)), np.ones((10))])\n",
        "\"\"\"На тест - 20 из первого и 30 из второго\"\"\"\n",
        "example_data_test = np.vstack([data_0[20:,:], data_1[10:,:]])\n",
        "example_labels_test = np.concatenate([np.zeros((20)), np.ones((30))])\n",
        "\"\"\"Задаём координатную сетку, на которой будем вычислять область классификации\"\"\"\n",
        "xx, yy = np.meshgrid(np.arange(-3, 3, 0.02), np.arange(-3, 3, 0.02))\n",
        "\"\"\"Обучаем регрессию без балансировки по классам\"\"\"\n",
        "optimizer = GridSearchCV(LogisticRegression(), param_grid, cv=cv, n_jobs=-1)\n",
        "optimizer.fit(example_data_train, example_labels_train)\n",
        "\"\"\"Строим предсказания регрессии для сетки\"\"\"\n",
        "Z = optimizer.predict(np.c_[xx.ravel(), yy.ravel()]).reshape(xx.shape)\n",
        "plt.pcolormesh(xx, yy, Z, cmap=plt.cm.Pastel2)\n",
        "plt.scatter(data_0[:,0], data_0[:,1], color='red')\n",
        "plt.scatter(data_1[:,0], data_1[:,1], color='blue')\n",
        "\"\"\"Считаем AUC\"\"\"\n",
        "auc_wo_class_weights = roc_auc_score(example_labels_test, optimizer.predict_proba(example_data_test)[:,1])\n",
        "plt.title('Without class weights')\n",
        "plt.show()\n",
        "print('AUC: %f'%auc_wo_class_weights)\n",
        "\"\"\"Для второй регрессии в LogisticRegression передаём параметр class_weight='balanced'\"\"\"\n",
        "optimizer = GridSearchCV(LogisticRegression(class_weight='balanced'), param_grid, cv=cv, n_jobs=-1)\n",
        "optimizer.fit(example_data_train, example_labels_train)\n",
        "Z = optimizer.predict(np.c_[xx.ravel(), yy.ravel()]).reshape(xx.shape)\n",
        "plt.pcolormesh(xx, yy, Z, cmap=plt.cm.Pastel2)\n",
        "plt.scatter(data_0[:,0], data_0[:,1], color='red')\n",
        "plt.scatter(data_1[:,0], data_1[:,1], color='blue')\n",
        "auc_w_class_weights = roc_auc_score(example_labels_test, optimizer.predict_proba(example_data_test)[:,1])\n",
        "plt.title('With class weights')\n",
        "plt.show()\n",
        "print('AUC: %f'%auc_w_class_weights)"
      ],
      "execution_count": 26,
      "outputs": [
        {
          "output_type": "display_data",
          "data": {
            "image/png": "[encoded data removed]",
            "text/plain": [
              "<Figure size 432x288 with 1 Axes>"
            ]
          },
          "metadata": {
            "tags": [],
            "needs_background": "light"
          }
        },
        {
          "output_type": "stream",
          "text": [
            "AUC: 0.911667\n"
          ],
          "name": "stdout"
        },
        {
          "output_type": "display_data",
          "data": {
            "image/png": "[encoded data removed]",
            "text/plain": [
              "<Figure size 432x288 with 1 Axes>"
            ]
          },
          "metadata": {
            "tags": [],
            "needs_background": "light"
          }
        },
        {
          "output_type": "stream",
          "text": [
            "AUC: 0.906667\n"
          ],
          "name": "stdout"
        }
      ]
    },
    {
      "cell_type": "markdown",
      "metadata": {
        "id": "VSGfSGNV4ian",
        "colab_type": "text"
      },
      "source": [
        "Как видно, во втором случае классификатор находит разделяющую поверхность, которая ближе к истинной, т.е. меньше переобучается. Поэтому на сбалансированность классов в обучающей выборке всегда следует обращать внимание.\n",
        "\n",
        "Посмотрим, сбалансированны ли классы в нашей обучающей выборке:"
      ]
    },
    {
      "cell_type": "code",
      "metadata": {
        "id": "S0gMhon04ian",
        "colab_type": "code",
        "colab": {
          "base_uri": "https://localhost:8080/",
          "height": 50
        },
        "outputId": "4b8570c0-e864-45c8-a519-02342d283e1b"
      },
      "source": [
        "print(np.sum(y_train==0))\n",
        "print(np.sum(y_train==1))"
      ],
      "execution_count": null,
      "outputs": [
        {
          "output_type": "stream",
          "text": [
            "2316\n",
            "1884\n"
          ],
          "name": "stdout"
        }
      ]
    },
    {
      "cell_type": "markdown",
      "metadata": {
        "id": "90ZE_SjS4iar",
        "colab_type": "text"
      },
      "source": [
        "Видно, что нет.\n",
        "\n",
        "Исправить ситуацию можно разными способами, мы рассмотрим два:\n",
        "- давать объектам миноритарного класса больший вес при обучении классификатора (рассмотрен в примере выше)\n",
        "- досэмплировать объекты миноритарного класса, пока число объектов в обоих классах не сравняется"
      ]
    },
    {
      "cell_type": "markdown",
      "metadata": {
        "id": "EvYSCu8F4iar",
        "colab_type": "text"
      },
      "source": [
        "## Задание 3. Балансировка классов.\n",
        "1. Обучите логистическую регрессию и гиперпараметры с балансировкой классов, используя веса (параметр class_weight='balanced' регрессии) на отмасштабированных выборках, полученных в предыдущем задании. Убедитесь, что вы нашли максимум accuracy по гиперпараметрам.\n",
        "2. Получите метрику ROC AUC на тестовой выборке.\n",
        "3. Сбалансируйте выборку, досэмплировав в неё объекты из меньшего класса. Для получения индексов объектов, которые требуется добавить в обучающую выборку, используйте следующую комбинацию вызовов функций:\n",
        "        np.random.seed(0)\n",
        "        indices_to_add = np.random.randint(...)\n",
        "        X_train_to_add = X_train[y_train.as_matrix() == 1,:][indices_to_add,:]\n",
        "   После этого добавьте эти объекты в начало или конец обучающей выборки. Дополните соответствующим      образом вектор ответов.\n",
        "4. Получите метрику ROC AUC на тестовой выборке, сравните с предыдущим результатом.\n",
        "5. Внесите ответы в выходной файл при помощи функции write_asnwer_3, передав в неё сначала ROC AUC для балансировки весами, а потом балансировки выборки вручную."
      ]
    },
    {
      "cell_type": "code",
      "metadata": {
        "id": "xbt86ZI5I1WH",
        "colab_type": "code",
        "colab": {
          "base_uri": "https://localhost:8080/",
          "height": 228
        },
        "outputId": "bc63e038-115f-481d-eb20-e5e2841eede8"
      },
      "source": [
        "optimizer_balanced = GridSearchCV(LogisticRegression(class_weight='balanced', solver = 'liblinear'), param_grid=param_grid, cv = 3)\n",
        "optimizer_balanced.fit(X_scaled_train, y_train)"
      ],
      "execution_count": 29,
      "outputs": [
        {
          "output_type": "execute_result",
          "data": {
            "text/plain": [
              "GridSearchCV(cv=3, error_score=nan,\n",
              "             estimator=LogisticRegression(C=1.0, class_weight='balanced',\n",
              "                                          dual=False, fit_intercept=True,\n",
              "                                          intercept_scaling=1, l1_ratio=None,\n",
              "                                          max_iter=100, multi_class='auto',\n",
              "                                          n_jobs=None, penalty='l2',\n",
              "                                          random_state=None, solver='liblinear',\n",
              "                                          tol=0.0001, verbose=0,\n",
              "                                          warm_start=False),\n",
              "             iid='deprecated', n_jobs=None,\n",
              "             param_grid={'C': [0.01, 0.05, 0.1, 0.5, 1, 5, 10]},\n",
              "             pre_dispatch='2*n_jobs', refit=True, return_train_score=False,\n",
              "             scoring=None, verbose=0)"
            ]
          },
          "metadata": {
            "tags": []
          },
          "execution_count": 29
        }
      ]
    },
    {
      "cell_type": "code",
      "metadata": {
        "id": "pZz-870eM_fH",
        "colab_type": "code",
        "colab": {
          "base_uri": "https://localhost:8080/",
          "height": 33
        },
        "outputId": "34cdfc07-74e8-473b-d92a-c1203c8835c9"
      },
      "source": [
        "auc_1 = roc_auc_score(y_test, optimizer_balanced.predict_proba(X_scaled_test)[:,1])\n",
        "auc_1"
      ],
      "execution_count": 30,
      "outputs": [
        {
          "output_type": "execute_result",
          "data": {
            "text/plain": [
              "0.8875080275839541"
            ]
          },
          "metadata": {
            "tags": []
          },
          "execution_count": 30
        }
      ]
    },
    {
      "cell_type": "code",
      "metadata": {
        "id": "b557bBMhSvED",
        "colab_type": "code",
        "colab": {}
      },
      "source": [
        "X_scaled_train = np.hstack((X_train_real_scaled, X_train_cat_oh))\n",
        "X_scaled_test = np.hstack((X_test_real_scaled,X_test_cat_oh))"
      ],
      "execution_count": 32,
      "outputs": []
    },
    {
      "cell_type": "code",
      "metadata": {
        "id": "SlBk634fOIlq",
        "colab_type": "code",
        "colab": {}
      },
      "source": [
        " np.random.seed(0)\n",
        " indices_to_add = np.random.randint( 0, np.sum(y_train==1), size = np.sum(y_train==0) - np.sum(y_train==1))\n",
        " X_train_to_add = X_scaled_train[y_train.as_matrix() == 1,:][indices_to_add,:]\n",
        " X_sampled_train = np.vstack((X_scaled_train, X_train_to_add))\n",
        " y_train_to_add = y_train.iloc[indices_to_add]\n",
        " y_train_sampled = np.append(y_train, y_train_to_add)"
      ],
      "execution_count": 33,
      "outputs": []
    },
    {
      "cell_type": "code",
      "metadata": {
        "id": "llfuNoKHcW0N",
        "colab_type": "code",
        "colab": {
          "base_uri": "https://localhost:8080/",
          "height": 228
        },
        "outputId": "ba2eb479-7943-48c8-cd99-53937e7ef7c2"
      },
      "source": [
        "optimizer_sampled = GridSearchCV(LogisticRegression(solver='liblinear'), param_grid, cv = cv)\n",
        "optimizer_sampled.fit(X_sampled_train, y_train_sampled)"
      ],
      "execution_count": 35,
      "outputs": [
        {
          "output_type": "execute_result",
          "data": {
            "text/plain": [
              "GridSearchCV(cv=3, error_score=nan,\n",
              "             estimator=LogisticRegression(C=1.0, class_weight=None, dual=False,\n",
              "                                          fit_intercept=True,\n",
              "                                          intercept_scaling=1, l1_ratio=None,\n",
              "                                          max_iter=100, multi_class='auto',\n",
              "                                          n_jobs=None, penalty='l2',\n",
              "                                          random_state=None, solver='liblinear',\n",
              "                                          tol=0.0001, verbose=0,\n",
              "                                          warm_start=False),\n",
              "             iid='deprecated', n_jobs=None,\n",
              "             param_grid={'C': [0.01, 0.05, 0.1, 0.5, 1, 5, 10]},\n",
              "             pre_dispatch='2*n_jobs', refit=True, return_train_score=False,\n",
              "             scoring=None, verbose=0)"
            ]
          },
          "metadata": {
            "tags": []
          },
          "execution_count": 35
        }
      ]
    },
    {
      "cell_type": "code",
      "metadata": {
        "id": "9WE1tIZ0e2Kk",
        "colab_type": "code",
        "colab": {
          "base_uri": "https://localhost:8080/",
          "height": 33
        },
        "outputId": "73dd37e1-1733-4e2c-81c4-7939318cb414"
      },
      "source": [
        "auc_2 =  roc_auc_score(y_test, optimizer_sampled.predict_proba(X_scaled_test)[:,1])\n",
        "auc_2"
      ],
      "execution_count": 38,
      "outputs": [
        {
          "output_type": "execute_result",
          "data": {
            "text/plain": [
              "0.8829841205418294"
            ]
          },
          "metadata": {
            "tags": []
          },
          "execution_count": 38
        }
      ]
    },
    {
      "cell_type": "code",
      "metadata": {
        "id": "h0JgnI2H4ias",
        "colab_type": "code",
        "colab": {}
      },
      "source": [
        "def write_answer_3(auc_1, auc_2):\n",
        "    auc = (auc_1 + auc_2) / 2\n",
        "    with open(\"preprocessing_lr_answer3.txt\", \"w\") as fout:\n",
        "        fout.write(str(auc))\n",
        "        \n",
        "# place your code here"
      ],
      "execution_count": null,
      "outputs": []
    },
    {
      "cell_type": "code",
      "metadata": {
        "id": "QsZYh7AEfHYk",
        "colab_type": "code",
        "colab": {}
      },
      "source": [
        "write_answer_3(auc_1, auc_2)"
      ],
      "execution_count": null,
      "outputs": []
    },
    {
      "cell_type": "markdown",
      "metadata": {
        "id": "w3gRSUTG4iav",
        "colab_type": "text"
      },
      "source": [
        "## Стратификация выборок."
      ]
    },
    {
      "cell_type": "markdown",
      "metadata": {
        "id": "-ZZ2lSFZ4ia4",
        "colab_type": "text"
      },
      "source": [
        "Рассмотрим ещё раз пример с выборками из нормальных распределений. Посмотрим ещё раз на качество классификаторов, получаемое на тестовых выборках:"
      ]
    },
    {
      "cell_type": "code",
      "metadata": {
        "id": "QFLsNRJ24ia5",
        "colab_type": "code",
        "colab": {
          "base_uri": "https://localhost:8080/",
          "height": 50
        },
        "outputId": "965cb74f-8571-4b22-a4cf-dc489d85abb1"
      },
      "source": [
        "print('AUC ROC for classifier without weighted classes', auc_wo_class_weights)\n",
        "print('AUC ROC for classifier with weighted classes: ', auc_w_class_weights)"
      ],
      "execution_count": null,
      "outputs": [
        {
          "output_type": "stream",
          "text": [
            "AUC ROC for classifier without weighted classes 0.9116666666666666\n",
            "AUC ROC for classifier with weighted classes:  0.9066666666666666\n"
          ],
          "name": "stdout"
        }
      ]
    },
    {
      "cell_type": "markdown",
      "metadata": {
        "id": "Clw7ImdQ4ia9",
        "colab_type": "text"
      },
      "source": [
        "Насколько эти цифры реально отражают качество работы алгоритма, если учесть, что тестовая выборка так же несбалансирована, как обучающая? При этом мы уже знаем, что алгоритм логистический регрессии чувствителен к балансировке классов в обучающей выборке, т.е. в данном случае на тесте он будет давать заведомо заниженные результаты. Метрика классификатора на тесте имела бы гораздо больший смысл, если бы объекты были разделы в выборках поровну: по 20 из каждого класса на обучени и на тесте. Переформируем выборки и подсчитаем новые ошибки:"
      ]
    },
    {
      "cell_type": "code",
      "metadata": {
        "id": "eTu396Vj4ia9",
        "colab_type": "code",
        "colab": {
          "base_uri": "https://localhost:8080/",
          "height": 298
        },
        "outputId": "8926d49f-3da8-4ee4-ddbd-36d640795086"
      },
      "source": [
        "\"\"\"Разделим данные по классам поровну между обучающей и тестовой выборками\"\"\"\n",
        "example_data_train = np.vstack([data_0[:20,:], data_1[:20,:]])\n",
        "example_labels_train = np.concatenate([np.zeros((20)), np.ones((20))])\n",
        "example_data_test = np.vstack([data_0[20:,:], data_1[20:,:]])\n",
        "example_labels_test = np.concatenate([np.zeros((20)), np.ones((20))])\n",
        "\"\"\"Обучим классификатор\"\"\"\n",
        "optimizer = GridSearchCV(LogisticRegression(class_weight='balanced'), param_grid, cv=cv, n_jobs=-1)\n",
        "optimizer.fit(example_data_train, example_labels_train)\n",
        "Z = optimizer.predict(np.c_[xx.ravel(), yy.ravel()]).reshape(xx.shape)\n",
        "plt.pcolormesh(xx, yy, Z, cmap=plt.cm.Pastel2)\n",
        "plt.scatter(data_0[:,0], data_0[:,1], color='red')\n",
        "plt.scatter(data_1[:,0], data_1[:,1], color='blue')\n",
        "auc_stratified = roc_auc_score(example_labels_test, optimizer.predict_proba(example_data_test)[:,1])\n",
        "plt.title('With class weights')\n",
        "plt.show()\n",
        "print('AUC ROC for stratified samples: ', auc_stratified)"
      ],
      "execution_count": null,
      "outputs": [
        {
          "output_type": "display_data",
          "data": {
            "image/png": "[encoded data removed]",
            "text/plain": [
              "<Figure size 432x288 with 1 Axes>"
            ]
          },
          "metadata": {
            "tags": [],
            "needs_background": "light"
          }
        },
        {
          "output_type": "stream",
          "text": [
            "AUC ROC for stratified samples:  0.9125\n"
          ],
          "name": "stdout"
        }
      ]
    },
    {
      "cell_type": "markdown",
      "metadata": {
        "id": "Npc4XEIL4ibA",
        "colab_type": "text"
      },
      "source": [
        "Как видно, после данной процедуры ответ классификатора изменился незначительно, а вот качество увеличилось. При этом, в зависимости от того, как вы разбили изначально данные на обучение и тест, после сбалансированного разделения выборок итоговая метрика на тесте может как увеличиться, так и уменьшиться, но доверять ей можно значительно больше, т.к. она построена с учётом специфики работы классификатора. Данный подход является частным случаем т.н. метода стратификации."
      ]
    },
    {
      "cell_type": "markdown",
      "metadata": {
        "id": "wv8s8f-I4ibA",
        "colab_type": "text"
      },
      "source": [
        "## Задание 4. Стратификация выборки.\n",
        "\n",
        "1. По аналогии с тем, как это было сделано в начале задания, разбейте выборки X_real_zeros и X_cat_oh на обучение и тест, передавая в функцию \n",
        "        train_test_split(...)\n",
        "   дополнительно параметр \n",
        "       stratify=y\n",
        "   Также обязательно передайте в функцию переменную random_state=0.\n",
        "2. Выполните масштабирование новых вещественных выборок, обучите классификатор и его гиперпараметры при помощи метода кросс-валидации, делая поправку на несбалансированные классы при помощи весов. Убедитесь в том, что нашли оптимум accuracy по гиперпараметрам.\n",
        "3. Оцените качество классификатора метрике AUC ROC на тестовой выборке.\n",
        "4. Полученный ответ передайте функции write_answer_4"
      ]
    },
    {
      "cell_type": "code",
      "metadata": {
        "id": "zSlpEvANf8Jy",
        "colab_type": "code",
        "colab": {}
      },
      "source": [
        "(X_train_zeros_strat,\n",
        " X_test_zeros_strat,\n",
        " y_train_strat, y_test_strat )=  train_test_split(X_real_zeros, y,\n",
        "                                   test_size=0.3, \n",
        "                                   random_state=0, stratify=y)\n",
        "(X_train_cat_oh,\n",
        " X_test_cat_oh) = train_test_split(X_cat_oh, \n",
        "                                   test_size=0.3, \n",
        "                                   random_state=0, stratify=y)\n"
      ],
      "execution_count": 71,
      "outputs": []
    },
    {
      "cell_type": "code",
      "metadata": {
        "id": "hswRYmnIhjHI",
        "colab_type": "code",
        "colab": {}
      },
      "source": [
        "scaler_stratified = StandardScaler()\n",
        "X_train_str = scaler_stratified.fit_transform(X_train_zeros_strat)\n",
        "X_test_str = scaler_stratified.fit_transform(X_test_zeros_strat)\n",
        "X_train_strat = np.hstack((X_train_str,X_train_cat_oh))\n",
        "X_test_strat = np.hstack((X_test_str,X_test_cat_oh))"
      ],
      "execution_count": 41,
      "outputs": []
    },
    {
      "cell_type": "code",
      "metadata": {
        "id": "2-xq1AQviwm9",
        "colab_type": "code",
        "colab": {
          "base_uri": "https://localhost:8080/",
          "height": 228
        },
        "outputId": "dee0ce0f-34d8-468a-b8b9-0de941030852"
      },
      "source": [
        "optimizer_stratified = GridSearchCV(LogisticRegression(class_weight='balanced', solver='liblinear'), param_grid=param_grid, cv=3, n_jobs=3)\n",
        "optimizer_stratified.fit(X_train_strat, y_train_strat)\n"
      ],
      "execution_count": 43,
      "outputs": [
        {
          "output_type": "execute_result",
          "data": {
            "text/plain": [
              "GridSearchCV(cv=3, error_score=nan,\n",
              "             estimator=LogisticRegression(C=1.0, class_weight='balanced',\n",
              "                                          dual=False, fit_intercept=True,\n",
              "                                          intercept_scaling=1, l1_ratio=None,\n",
              "                                          max_iter=100, multi_class='auto',\n",
              "                                          n_jobs=None, penalty='l2',\n",
              "                                          random_state=None, solver='liblinear',\n",
              "                                          tol=0.0001, verbose=0,\n",
              "                                          warm_start=False),\n",
              "             iid='deprecated', n_jobs=3,\n",
              "             param_grid={'C': [0.01, 0.05, 0.1, 0.5, 1, 5, 10]},\n",
              "             pre_dispatch='2*n_jobs', refit=True, return_train_score=False,\n",
              "             scoring=None, verbose=0)"
            ]
          },
          "metadata": {
            "tags": []
          },
          "execution_count": 43
        }
      ]
    },
    {
      "cell_type": "code",
      "metadata": {
        "id": "awDTiIKEkumT",
        "colab_type": "code",
        "colab": {
          "base_uri": "https://localhost:8080/",
          "height": 33
        },
        "outputId": "511b8aed-84c4-4d30-ffa9-dff604e03062"
      },
      "source": [
        "auc = roc_auc_score(y_test_strat, optimizer_stratified.predict_proba(X_test_strat)[:,1])\n",
        "auc"
      ],
      "execution_count": 47,
      "outputs": [
        {
          "output_type": "execute_result",
          "data": {
            "text/plain": [
              "0.8794071768692251"
            ]
          },
          "metadata": {
            "tags": []
          },
          "execution_count": 47
        }
      ]
    },
    {
      "cell_type": "code",
      "metadata": {
        "id": "PTFjDgaF4ibC",
        "colab_type": "code",
        "colab": {}
      },
      "source": [
        "def write_answer_4(auc):\n",
        "    with open(\"preprocessing_lr_answer4.txt\", \"w\") as fout:\n",
        "        fout.write(str(auc))\n",
        "        \n",
        "# place your code here"
      ],
      "execution_count": null,
      "outputs": []
    },
    {
      "cell_type": "code",
      "metadata": {
        "id": "JxzOFtcFlO2w",
        "colab_type": "code",
        "colab": {}
      },
      "source": [
        "write_answer_4(auc)"
      ],
      "execution_count": null,
      "outputs": []
    },
    {
      "cell_type": "markdown",
      "metadata": {
        "id": "AEs6fiRN4ibF",
        "colab_type": "text"
      },
      "source": [
        "Теперь вы разобрались с основными этапами предобработки данных для линейных классификаторов.\n",
        "Напомним основные этапы:\n",
        "- обработка пропущенных значений\n",
        "- обработка категориальных признаков\n",
        "- стратификация\n",
        "- балансировка классов\n",
        "- масштабирование\n",
        "\n",
        "Данные действия с данными рекомендуется проводить всякий раз, когда вы планируете использовать линейные методы. Рекомендация по выполнению многих из этих пунктов справедлива и для других методов машинного обучения."
      ]
    },
    {
      "cell_type": "markdown",
      "metadata": {
        "id": "ewTGe2tq4ibG",
        "colab_type": "text"
      },
      "source": [
        "## Трансформация признаков.\n",
        "\n",
        "Теперь рассмотрим способы преобразования признаков. Существует достаточно много различных способов трансформации признаков, которые позволяют при помощи линейных методов получать более сложные разделяющие поверхности. Самым базовым является полиномиальное преобразование признаков. Его идея заключается в том, что помимо самих признаков вы дополнительно включаете набор все полиномы степени $p$, которые можно из них построить. Для случая $p=2$ преобразование выглядит следующим образом:\n",
        "\n",
        "$$ \\phi(x_i) = [x_{i,1}^2, ..., x_{i,D}^2, x_{i,1}x_{i,2}, ..., x_{i,D} x_{i,D-1}, x_{i,1}, ..., x_{i,D}, 1] $$\n",
        "\n",
        "Рассмотрим принцип работы данных признаков на данных, сэмплированных их гауссиан:"
      ]
    },
    {
      "cell_type": "code",
      "metadata": {
        "id": "Fp3bbXy64ibG",
        "colab_type": "code",
        "colab": {
          "base_uri": "https://localhost:8080/",
          "height": 282
        },
        "outputId": "5fc9ff76-3f85-4fe2-c1fc-5d7963451ff9"
      },
      "source": [
        "from sklearn.preprocessing import PolynomialFeatures\n",
        "\n",
        "\"\"\"Инициализируем класс, который выполняет преобразование\"\"\"\n",
        "transform = PolynomialFeatures(2)\n",
        "\"\"\"Обучаем преобразование на обучающей выборке, применяем его к тестовой\"\"\"\n",
        "example_data_train_poly = transform.fit_transform(example_data_train)\n",
        "example_data_test_poly = transform.transform(example_data_test)\n",
        "\"\"\"Обращаем внимание на параметр fit_intercept=False\"\"\"\n",
        "optimizer = GridSearchCV(LogisticRegression(class_weight='balanced', fit_intercept=False), param_grid, cv=cv, n_jobs=-1)\n",
        "optimizer.fit(example_data_train_poly, example_labels_train)\n",
        "Z = optimizer.predict(transform.transform(np.c_[xx.ravel(), yy.ravel()])).reshape(xx.shape)\n",
        "plt.pcolormesh(xx, yy, Z, cmap=plt.cm.Pastel2)\n",
        "plt.scatter(data_0[:,0], data_0[:,1], color='red')\n",
        "plt.scatter(data_1[:,0], data_1[:,1], color='blue')\n",
        "plt.title('With class weights')\n",
        "plt.show()"
      ],
      "execution_count": 48,
      "outputs": [
        {
          "output_type": "display_data",
          "data": {
            "image/png": "[encoded data removed]",
            "text/plain": [
              "<Figure size 432x288 with 1 Axes>"
            ]
          },
          "metadata": {
            "tags": [],
            "needs_background": "light"
          }
        }
      ]
    },
    {
      "cell_type": "markdown",
      "metadata": {
        "id": "YgpdtTtg4ibK",
        "colab_type": "text"
      },
      "source": [
        "Видно, что данный метод преобразования данных уже позволяет строить нелинейные разделяющие поверхности, которые могут более тонко подстраиваться под данные и находить более сложные зависимости. Число признаков в новой модели:"
      ]
    },
    {
      "cell_type": "code",
      "metadata": {
        "id": "875eKEAA4ibK",
        "colab_type": "code",
        "colab": {
          "base_uri": "https://localhost:8080/",
          "height": 33
        },
        "outputId": "1de0754d-a69b-4afe-ac5d-0367575c3855"
      },
      "source": [
        "print(example_data_train_poly.shape)"
      ],
      "execution_count": null,
      "outputs": [
        {
          "output_type": "stream",
          "text": [
            "(40, 6)\n"
          ],
          "name": "stdout"
        }
      ]
    },
    {
      "cell_type": "markdown",
      "metadata": {
        "id": "LP5Eubf_4ibP",
        "colab_type": "text"
      },
      "source": [
        "Но при этом одновременно данный метод способствует более сильной способности модели к переобучению из-за быстрого роста числа признаком с увеличением степени $p$. Рассмотрим пример с $p=11$:"
      ]
    },
    {
      "cell_type": "code",
      "metadata": {
        "id": "6ERPO60c4ibP",
        "colab_type": "code",
        "colab": {
          "base_uri": "https://localhost:8080/",
          "height": 282
        },
        "outputId": "66ba5dd4-3b30-4bfc-ec6a-98d71170f607"
      },
      "source": [
        "transform = PolynomialFeatures(11)\n",
        "example_data_train_poly = transform.fit_transform(example_data_train)\n",
        "example_data_test_poly = transform.transform(example_data_test)\n",
        "optimizer = GridSearchCV(LogisticRegression(class_weight='balanced', fit_intercept=False), param_grid, cv=cv, n_jobs=-1)\n",
        "optimizer.fit(example_data_train_poly, example_labels_train)\n",
        "Z = optimizer.predict(transform.transform(np.c_[xx.ravel(), yy.ravel()])).reshape(xx.shape)\n",
        "plt.pcolormesh(xx, yy, Z, cmap=plt.cm.Pastel2)\n",
        "plt.scatter(data_0[:,0], data_0[:,1], color='red')\n",
        "plt.scatter(data_1[:,0], data_1[:,1], color='blue')\n",
        "plt.title('Corrected class weights')\n",
        "plt.show()"
      ],
      "execution_count": null,
      "outputs": [
        {
          "output_type": "display_data",
          "data": {
            "image/png": "[encoded data removed]",
            "text/plain": [
              "<Figure size 432x288 with 1 Axes>"
            ]
          },
          "metadata": {
            "tags": [],
            "needs_background": "light"
          }
        }
      ]
    },
    {
      "cell_type": "markdown",
      "metadata": {
        "id": "BXC0EjOo4ibS",
        "colab_type": "text"
      },
      "source": [
        "Количество признаков в данной модели:"
      ]
    },
    {
      "cell_type": "code",
      "metadata": {
        "id": "TwYQDsmA4ibT",
        "colab_type": "code",
        "colab": {
          "base_uri": "https://localhost:8080/",
          "height": 33
        },
        "outputId": "b7ce3264-88d8-4688-8ffb-5ffaba3e127d"
      },
      "source": [
        "print(example_data_train_poly.shape)"
      ],
      "execution_count": null,
      "outputs": [
        {
          "output_type": "stream",
          "text": [
            "(40, 78)\n"
          ],
          "name": "stdout"
        }
      ]
    },
    {
      "cell_type": "markdown",
      "metadata": {
        "id": "SlbiXyfL4ibV",
        "colab_type": "text"
      },
      "source": [
        "## Задание 5. Трансформация вещественных признаков.\n",
        "\n",
        "1. Реализуйте по аналогии с примером преобразование вещественных признаков модели при помощи полиномиальных признаков степени 2\n",
        "2. Постройте логистическую регрессию на новых данных, одновременно подобрав оптимальные гиперпараметры. Обращаем внимание, что в преобразованных признаках уже присутствует столбец, все значения которого равны 1, поэтому обучать дополнительно значение $b$ не нужно, его функцию выполняет один из весов $w$. В связи с этим во избежание линейной зависимости в датасете, в вызов класса логистической регрессии требуется передавать параметр fit_intercept=False. Для обучения используйте стратифицированные выборки с балансировкой классов при помощи весов, преобразованные признаки требуется заново отмасштабировать.\n",
        "3. Получите AUC ROC на тесте и сравните данный результат с использованием обычных признаков.\n",
        "4. Передайте полученный ответ в функцию write_answer_5."
      ]
    },
    {
      "cell_type": "code",
      "metadata": {
        "id": "v0GGikJ7nlL0",
        "colab_type": "code",
        "colab": {}
      },
      "source": [
        "transform = PolynomialFeatures(2)\n",
        "X_train_poly = transform.fit_transform(X_train_str)\n",
        "X_test_poly = transform.transform(X_test_str)\n",
        "scaler_poly = StandardScaler()\n",
        "X_train_poly = scaler_poly.fit_transform(X_train_poly)\n",
        "X_test_poly = scaler_poly.transform(X_test_poly)\n",
        "X_train_poly = np.hstack((X_train_poly, X_train_cat_oh))\n",
        "X_test_poly = np.hstack((X_test_poly, X_test_cat_oh))\n"
      ],
      "execution_count": 54,
      "outputs": []
    },
    {
      "cell_type": "code",
      "metadata": {
        "id": "Zya16LpwqR4b",
        "colab_type": "code",
        "colab": {
          "base_uri": "https://localhost:8080/",
          "height": 228
        },
        "outputId": "4345ec6b-426f-487d-8e02-b82d713a1083"
      },
      "source": [
        "optimizer = GridSearchCV(LogisticRegression(class_weight='balanced', fit_intercept=False), param_grid, cv=cv, n_jobs=-1)\n",
        "optimizer.fit(X_train_poly, y_train_strat)"
      ],
      "execution_count": 56,
      "outputs": [
        {
          "output_type": "execute_result",
          "data": {
            "text/plain": [
              "GridSearchCV(cv=3, error_score=nan,\n",
              "             estimator=LogisticRegression(C=1.0, class_weight='balanced',\n",
              "                                          dual=False, fit_intercept=False,\n",
              "                                          intercept_scaling=1, l1_ratio=None,\n",
              "                                          max_iter=100, multi_class='auto',\n",
              "                                          n_jobs=None, penalty='l2',\n",
              "                                          random_state=None, solver='lbfgs',\n",
              "                                          tol=0.0001, verbose=0,\n",
              "                                          warm_start=False),\n",
              "             iid='deprecated', n_jobs=-1,\n",
              "             param_grid={'C': [0.01, 0.05, 0.1, 0.5, 1, 5, 10]},\n",
              "             pre_dispatch='2*n_jobs', refit=True, return_train_score=False,\n",
              "             scoring=None, verbose=0)"
            ]
          },
          "metadata": {
            "tags": []
          },
          "execution_count": 56
        }
      ]
    },
    {
      "cell_type": "code",
      "metadata": {
        "id": "GUevJ9cmtQLJ",
        "colab_type": "code",
        "colab": {
          "base_uri": "https://localhost:8080/",
          "height": 33
        },
        "outputId": "ae1aad96-c06a-4abe-eed2-2b92af6d2b8a"
      },
      "source": [
        "auc = roc_auc_score(y_test_strat, optimizer.predict_proba(X_test_poly)[:,1])\n",
        "auc"
      ],
      "execution_count": 57,
      "outputs": [
        {
          "output_type": "execute_result",
          "data": {
            "text/plain": [
              "0.8852809248727478"
            ]
          },
          "metadata": {
            "tags": []
          },
          "execution_count": 57
        }
      ]
    },
    {
      "cell_type": "code",
      "metadata": {
        "id": "OHOptM584ibV",
        "colab_type": "code",
        "colab": {}
      },
      "source": [
        "def write_answer_5(auc):\n",
        "    with open(\"preprocessing_lr_answer5.txt\", \"w\") as fout:\n",
        "        fout.write(str(auc))\n",
        "        \n",
        "write_answer_5(auc)"
      ],
      "execution_count": 58,
      "outputs": []
    },
    {
      "cell_type": "markdown",
      "metadata": {
        "id": "I1tOE8Tx4ibX",
        "colab_type": "text"
      },
      "source": [
        "## Регрессия Lasso.\n",
        "К логистической регрессии также можно применить L1-регуляризацию (Lasso), вместо регуляризации L2, которая будет приводить к отбору признаков. Вам предлагается применить L1-регуляцию к исходным признакам и проинтерпретировать полученные результаты (применение отбора признаков к полиномиальным так же можно успешно применять, но в нём уже будет отсутствовать компонента интерпретации, т.к. смысловое значение оригинальных признаков известно, а полиномиальных - уже может быть достаточно нетривиально). Для вызова логистической регрессии с L1-регуляризацией достаточно передать параметр penalty='l1' в инициализацию класса."
      ]
    },
    {
      "cell_type": "markdown",
      "metadata": {
        "id": "09RLvDs54ibY",
        "colab_type": "text"
      },
      "source": [
        "## Задание 6. Отбор признаков при помощи регрессии Lasso.\n",
        "1. Обучите регрессию Lasso на стратифицированных отмасштабированных выборках, используя балансировку классов при помощи весов.\n",
        "2. Получите ROC AUC регрессии, сравните его с предыдущими результатами.\n",
        "3. Найдите номера вещественных признаков, которые имеют нулевые веса в итоговой модели.\n",
        "4. Передайте их список функции write_answer_6."
      ]
    },
    {
      "cell_type": "code",
      "metadata": {
        "colab_type": "code",
        "id": "KJ0sWehe4diS",
        "colab": {}
      },
      "source": [
        "(X_train_zeros_strat,\n",
        " X_test_zeros_strat,\n",
        " y_train_strat, y_test_strat )=  train_test_split(X_real_zeros, y,\n",
        "                                   test_size=0.3, \n",
        "                                   random_state=0, stratify=y)\n",
        "(X_train_cat_oh,\n",
        " X_test_cat_oh) = train_test_split(X_cat_oh, \n",
        "                                   test_size=0.3, \n",
        "                                   random_state=0, stratify=y)\n"
      ],
      "execution_count": 101,
      "outputs": []
    },
    {
      "cell_type": "code",
      "metadata": {
        "id": "N1bVcIyfyzmt",
        "colab_type": "code",
        "colab": {}
      },
      "source": [
        "scaler_stratified = StandardScaler()\n",
        "X_train_str = scaler_stratified.fit_transform(X_train_zeros_strat)\n",
        "X_test_str = scaler_stratified.fit_transform(X_test_zeros_strat)\n",
        "X_train_strat = np.hstack((X_train_str,X_train_cat_oh))\n",
        "X_test_strat = np.hstack((X_test_str,X_test_cat_oh))"
      ],
      "execution_count": 102,
      "outputs": []
    },
    {
      "cell_type": "code",
      "metadata": {
        "id": "iQupzzLuzxjM",
        "colab_type": "code",
        "colab": {
          "base_uri": "https://localhost:8080/",
          "height": 228
        },
        "outputId": "2f53de0c-c4e0-459f-abf0-db2658f4dc71"
      },
      "source": [
        "optimizer_lasso = GridSearchCV(LogisticRegression(penalty='l1', class_weight = 'balanced',  fit_intercept=False, solver = 'liblinear'), param_grid=param_grid, cv=3)\n",
        "optimizer_lasso.fit(X_train_strat, y_train_strat)"
      ],
      "execution_count": 104,
      "outputs": [
        {
          "output_type": "execute_result",
          "data": {
            "text/plain": [
              "GridSearchCV(cv=3, error_score=nan,\n",
              "             estimator=LogisticRegression(C=1.0, class_weight='balanced',\n",
              "                                          dual=False, fit_intercept=False,\n",
              "                                          intercept_scaling=1, l1_ratio=None,\n",
              "                                          max_iter=100, multi_class='auto',\n",
              "                                          n_jobs=None, penalty='l1',\n",
              "                                          random_state=None, solver='liblinear',\n",
              "                                          tol=0.0001, verbose=0,\n",
              "                                          warm_start=False),\n",
              "             iid='deprecated', n_jobs=None,\n",
              "             param_grid={'C': [0.01, 0.05, 0.1, 0.5, 1, 5, 10]},\n",
              "             pre_dispatch='2*n_jobs', refit=True, return_train_score=False,\n",
              "             scoring=None, verbose=0)"
            ]
          },
          "metadata": {
            "tags": []
          },
          "execution_count": 104
        }
      ]
    },
    {
      "cell_type": "code",
      "metadata": {
        "id": "QjPVJ3Lm0ayC",
        "colab_type": "code",
        "colab": {}
      },
      "source": [
        "features = list(optimizer_lasso.best_estimator_.coef_)"
      ],
      "execution_count": 106,
      "outputs": []
    },
    {
      "cell_type": "code",
      "metadata": {
        "id": "0vfdhG0g0x1a",
        "colab_type": "code",
        "colab": {
          "base_uri": "https://localhost:8080/",
          "height": 50
        },
        "outputId": "164beb53-b21f-48db-c2d3-e56652debfa2"
      },
      "source": [
        "optimizer_lasso.best_estimator_.coef_[0][:13]==0"
      ],
      "execution_count": 108,
      "outputs": [
        {
          "output_type": "execute_result",
          "data": {
            "text/plain": [
              "array([False, False, False, False,  True, False,  True,  True, False,\n",
              "       False, False, False, False])"
            ]
          },
          "metadata": {
            "tags": []
          },
          "execution_count": 108
        }
      ]
    },
    {
      "cell_type": "code",
      "metadata": {
        "id": "Pw4mwiJd1dS_",
        "colab_type": "code",
        "colab": {}
      },
      "source": [
        "def write_answer_6(features):\n",
        "    with open(\"preprocessing_lr_answer6.txt\", \"w\") as fout:\n",
        "        fout.write(\" \".join([str(num) for num in features]))\n",
        "        \n",
        "# place your code here"
      ],
      "execution_count": 107,
      "outputs": []
    }
  ]
}