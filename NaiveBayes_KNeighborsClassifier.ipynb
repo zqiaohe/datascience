{
  "nbformat": 4,
  "nbformat_minor": 0,
  "metadata": {
    "colab": {
      "name": "NaiveBayes_KNeighborsClassifier.ipynb",
      "provenance": [],
      "collapsed_sections": [],
      "authorship_tag": "ABX9TyM71m07VLV0dEXepQ12vts2",
      "include_colab_link": true
    },
    "kernelspec": {
      "name": "python3",
      "display_name": "Python 3"
    }
  },
  "cells": [
    {
      "cell_type": "markdown",
      "metadata": {
        "id": "view-in-github",
        "colab_type": "text"
      },
      "source": [
        "<a href=\"https://colab.research.google.com/github/zqiaohe/datascience/blob/master/NaiveBayes_KNeighborsClassifier.ipynb\" target=\"_parent\"><img src=\"https://colab.research.google.com/assets/colab-badge.svg\" alt=\"Open In Colab\"/></a>"
      ]
    },
    {
      "cell_type": "code",
      "metadata": {
        "id": "UGmO-vAU2v0W",
        "colab_type": "code",
        "colab": {}
      },
      "source": [
        "from sklearn.datasets import load_digits, load_breast_cancer\n",
        "import pandas as pd\n",
        "import numpy as np\n",
        "from sklearn.naive_bayes import BernoulliNB, MultinomialNB, GaussianNB"
      ],
      "execution_count": 1,
      "outputs": []
    },
    {
      "cell_type": "code",
      "metadata": {
        "id": "8JVWjc0K4zmJ",
        "colab_type": "code",
        "colab": {}
      },
      "source": [
        "from sklearn.model_selection import train_test_split, cross_val_score"
      ],
      "execution_count": 5,
      "outputs": []
    },
    {
      "cell_type": "code",
      "metadata": {
        "id": "6oUu1Bzw4BU8",
        "colab_type": "code",
        "colab": {}
      },
      "source": [
        "X_d, y_d = load_digits(return_X_y=True)\n",
        "X_b, y_b = load_breast_cancer(return_X_y=True)\n",
        "X_d_train, X_d_test, y_d_train,  y_d_test = train_test_split(X_d, y_d, test_size = 0.25,  shuffle = False)\n",
        "X_b_train, X_b_test, y_b_train,  y_b_test = train_test_split(X_d, y_d, test_size = 0.25)"
      ],
      "execution_count": 22,
      "outputs": []
    },
    {
      "cell_type": "code",
      "metadata": {
        "id": "lpP84AC354Vl",
        "colab_type": "code",
        "colab": {
          "base_uri": "https://localhost:8080/",
          "height": 34
        },
        "outputId": "f880436e-4b73-4fe9-bf7f-94706bc12c88"
      },
      "source": [
        "cross_val_score(BernoulliNB(), X_d, y_d, cv = 3, scoring='accuracy')"
      ],
      "execution_count": 7,
      "outputs": [
        {
          "output_type": "execute_result",
          "data": {
            "text/plain": [
              "array([0.83305509, 0.79966611, 0.83806344])"
            ]
          },
          "metadata": {
            "tags": []
          },
          "execution_count": 7
        }
      ]
    },
    {
      "cell_type": "code",
      "metadata": {
        "id": "LrA_Jjq16m8k",
        "colab_type": "code",
        "colab": {
          "base_uri": "https://localhost:8080/",
          "height": 34
        },
        "outputId": "236b92b0-6396-493f-ef0e-7799eb35f033"
      },
      "source": [
        "np.mean(cross_val_score(MultinomialNB(), X_d, y_d, cv = 3, scoring='accuracy'))"
      ],
      "execution_count": 14,
      "outputs": [
        {
          "output_type": "execute_result",
          "data": {
            "text/plain": [
              "0.870895937673901"
            ]
          },
          "metadata": {
            "tags": []
          },
          "execution_count": 14
        }
      ]
    },
    {
      "cell_type": "code",
      "metadata": {
        "id": "X0YlpG6j67Zd",
        "colab_type": "code",
        "colab": {
          "base_uri": "https://localhost:8080/",
          "height": 34
        },
        "outputId": "0772f345-c7d5-4c5b-b5f2-77be34f7c416"
      },
      "source": [
        "cross_val_score(GaussianNB(), X_d, y_d, cv = 3, scoring='accuracy')"
      ],
      "execution_count": 9,
      "outputs": [
        {
          "output_type": "execute_result",
          "data": {
            "text/plain": [
              "array([0.8263773 , 0.79799666, 0.8163606 ])"
            ]
          },
          "metadata": {
            "tags": []
          },
          "execution_count": 9
        }
      ]
    },
    {
      "cell_type": "code",
      "metadata": {
        "id": "fc1SbL5z7HPO",
        "colab_type": "code",
        "colab": {
          "base_uri": "https://localhost:8080/",
          "height": 34
        },
        "outputId": "be379a56-0aca-4c7d-c7d3-b4d88533c2fe"
      },
      "source": [
        "cross_val_score(BernoulliNB(), X_b, y_b, cv = 3, scoring='accuracy')"
      ],
      "execution_count": 10,
      "outputs": [
        {
          "output_type": "execute_result",
          "data": {
            "text/plain": [
              "array([0.62631579, 0.62631579, 0.62962963])"
            ]
          },
          "metadata": {
            "tags": []
          },
          "execution_count": 10
        }
      ]
    },
    {
      "cell_type": "code",
      "metadata": {
        "id": "MHK_t-Ip7HSG",
        "colab_type": "code",
        "colab": {
          "base_uri": "https://localhost:8080/",
          "height": 34
        },
        "outputId": "e6347e00-2f0f-4936-e75f-5d96bf935f2d"
      },
      "source": [
        "cross_val_score(MultinomialNB(), X_b, y_b, cv = 3, scoring='accuracy')"
      ],
      "execution_count": 11,
      "outputs": [
        {
          "output_type": "execute_result",
          "data": {
            "text/plain": [
              "array([0.87894737, 0.89473684, 0.91005291])"
            ]
          },
          "metadata": {
            "tags": []
          },
          "execution_count": 11
        }
      ]
    },
    {
      "cell_type": "code",
      "metadata": {
        "id": "Ofty8QI_7HdV",
        "colab_type": "code",
        "colab": {
          "base_uri": "https://localhost:8080/",
          "height": 34
        },
        "outputId": "5654b0a8-b73e-40ca-e745-627ad2bed83d"
      },
      "source": [
        "np.mean(cross_val_score(GaussianNB(), X_b, y_b, cv = 3, scoring='accuracy'))"
      ],
      "execution_count": 13,
      "outputs": [
        {
          "output_type": "execute_result",
          "data": {
            "text/plain": [
              "0.9367492806089297"
            ]
          },
          "metadata": {
            "tags": []
          },
          "execution_count": 13
        }
      ]
    },
    {
      "cell_type": "code",
      "metadata": {
        "id": "9rXR0IiBHkvb",
        "colab_type": "code",
        "colab": {}
      },
      "source": [
        "from sklearn.ensemble import RandomForestClassifier\n",
        "from sklearn.metrics import accuracy_score"
      ],
      "execution_count": 17,
      "outputs": []
    },
    {
      "cell_type": "code",
      "metadata": {
        "id": "LKrn21soHsy2",
        "colab_type": "code",
        "colab": {
          "base_uri": "https://localhost:8080/",
          "height": 34
        },
        "outputId": "9c3291ee-6753-4515-b3ef-33b4f0dbc3ef"
      },
      "source": [
        "clf = RandomForestClassifier(n_estimators=1000) \n",
        "clf.fit(X_d_train, y_d_train)\n",
        "1-accuracy_score(y_d_test, clf.predict(X_d_test))"
      ],
      "execution_count": 23,
      "outputs": [
        {
          "output_type": "execute_result",
          "data": {
            "text/plain": [
              "0.05777777777777782"
            ]
          },
          "metadata": {
            "tags": []
          },
          "execution_count": 23
        }
      ]
    },
    {
      "cell_type": "code",
      "metadata": {
        "id": "yJap3u5rJiXr",
        "colab_type": "code",
        "colab": {
          "base_uri": "https://localhost:8080/",
          "height": 68
        },
        "outputId": "8f0c54c8-7844-4b4b-c88b-4b62ee0ee1a0"
      },
      "source": [
        "from sklearn.neighbors import KNeighborsClassifier\n",
        "nbrs = KNeighborsClassifier()\n",
        "nbrs.fit(X_d_train, y_d_train)\n"
      ],
      "execution_count": 32,
      "outputs": [
        {
          "output_type": "execute_result",
          "data": {
            "text/plain": [
              "KNeighborsClassifier(algorithm='auto', leaf_size=30, metric='minkowski',\n",
              "                     metric_params=None, n_jobs=None, n_neighbors=5, p=2,\n",
              "                     weights='uniform')"
            ]
          },
          "metadata": {
            "tags": []
          },
          "execution_count": 32
        }
      ]
    },
    {
      "cell_type": "code",
      "metadata": {
        "id": "AmHiQhwdJ9Zl",
        "colab_type": "code",
        "colab": {
          "base_uri": "https://localhost:8080/",
          "height": 34
        },
        "outputId": "f702fd03-5c7b-4a6f-ecd9-b8affe54b22b"
      },
      "source": [
        "1-accuracy_score(y_d_test, nbrs.predict(X_d_test))"
      ],
      "execution_count": 33,
      "outputs": [
        {
          "output_type": "execute_result",
          "data": {
            "text/plain": [
              "0.03555555555555556"
            ]
          },
          "metadata": {
            "tags": []
          },
          "execution_count": 33
        }
      ]
    }
  ]
}