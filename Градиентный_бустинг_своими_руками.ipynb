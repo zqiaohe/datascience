{
  "nbformat": 4,
  "nbformat_minor": 0,
  "metadata": {
    "colab": {
      "name": "Градиентный бустинг своими руками.ipynb",
      "provenance": [],
      "authorship_tag": "ABX9TyNseZO3BwdvgmhzgksQ4TGp",
      "include_colab_link": true
    },
    "kernelspec": {
      "name": "python3",
      "display_name": "Python 3"
    }
  },
  "cells": [
    {
      "cell_type": "markdown",
      "metadata": {
        "id": "view-in-github",
        "colab_type": "text"
      },
      "source": [
        "<a href=\"https://colab.research.google.com/github/zqiaohe/datascience/blob/master/%D0%93%D1%80%D0%B0%D0%B4%D0%B8%D0%B5%D0%BD%D1%82%D0%BD%D1%8B%D0%B9_%D0%B1%D1%83%D1%81%D1%82%D0%B8%D0%BD%D0%B3_%D1%81%D0%B2%D0%BE%D0%B8%D0%BC%D0%B8_%D1%80%D1%83%D0%BA%D0%B0%D0%BC%D0%B8.ipynb\" target=\"_parent\"><img src=\"https://colab.research.google.com/assets/colab-badge.svg\" alt=\"Open In Colab\"/></a>"
      ]
    },
    {
      "cell_type": "code",
      "metadata": {
        "id": "2yfHMMfPufGa",
        "colab_type": "code",
        "colab": {}
      },
      "source": [
        "from sklearn.datasets import load_boston\n",
        "from sklearn.model_selection import train_test_split\n",
        "from sklearn.tree import DecisionTreeRegressor\n",
        "from sklearn.metrics import mean_squared_error\n",
        "import numpy as np"
      ],
      "execution_count": null,
      "outputs": []
    },
    {
      "cell_type": "code",
      "metadata": {
        "id": "GHiV3L4XvyUv",
        "colab_type": "code",
        "colab": {
          "base_uri": "https://localhost:8080/",
          "height": 34
        },
        "outputId": "1daacfb9-2346-42c0-bf8f-c6c7554b63bc"
      },
      "source": [
        "X.shape"
      ],
      "execution_count": null,
      "outputs": [
        {
          "output_type": "execute_result",
          "data": {
            "text/plain": [
              "(506, 13)"
            ]
          },
          "metadata": {
            "tags": []
          },
          "execution_count": 46
        }
      ]
    },
    {
      "cell_type": "code",
      "metadata": {
        "id": "P6TxZ5RXu5vy",
        "colab_type": "code",
        "colab": {}
      },
      "source": [
        "X, y = load_boston(return_X_y=True)\n",
        "X_train, X_test, y_train, y_test = X[:378,:], X[379:,:], y[:378], y[379:]"
      ],
      "execution_count": null,
      "outputs": []
    },
    {
      "cell_type": "code",
      "metadata": {
        "id": "R59PhGxY0dqJ",
        "colab_type": "code",
        "colab": {}
      },
      "source": [
        "base_algorithms_list = []\n",
        "coefficients_list = []\n",
        "y_train_cur = y_train"
      ],
      "execution_count": null,
      "outputs": []
    },
    {
      "cell_type": "code",
      "metadata": {
        "id": "8OusPZ0CtBlV",
        "colab_type": "code",
        "colab": {}
      },
      "source": [
        "def gbm_predict(X):\n",
        "    return [sum([coeff * algo.predict([x])[0] for algo, coeff in zip(base_algorithms_list, coefficients_list)]) for x in X]"
      ],
      "execution_count": null,
      "outputs": []
    },
    {
      "cell_type": "code",
      "metadata": {
        "id": "0W7K9lKw3OQ4",
        "colab_type": "code",
        "colab": {}
      },
      "source": [
        "for i in range(50):\n",
        "  clf = DecisionTreeRegressor(max_depth=5, random_state=42)\n",
        "  clf.fit(X_train, y_train_cur)\n",
        "  base_algorithms_list.append(clf)\n",
        "  coefficients_list.append(0.9)\n",
        "  y_train_cur = 0.9/(1.0+i)*(y_train - np.array(gbm_predict(X_train)))\n",
        "\n"
      ],
      "execution_count": null,
      "outputs": []
    },
    {
      "cell_type": "code",
      "metadata": {
        "id": "GlWeMLLztQ-i",
        "colab_type": "code",
        "colab": {
          "base_uri": "https://localhost:8080/",
          "height": 34
        },
        "outputId": "b33e97be-a919-4987-a6dc-d6ed1e63ebee"
      },
      "source": [
        "np.sqrt(mean_squared_error(y_test, gbm_predict(X_test)))"
      ],
      "execution_count": null,
      "outputs": [
        {
          "output_type": "execute_result",
          "data": {
            "text/plain": [
              "5.484654935100147"
            ]
          },
          "metadata": {
            "tags": []
          },
          "execution_count": 95
        }
      ]
    },
    {
      "cell_type": "code",
      "metadata": {
        "id": "6FmlNeQEvc3A",
        "colab_type": "code",
        "colab": {
          "base_uri": "https://localhost:8080/",
          "height": 34
        },
        "outputId": "524bac77-6f32-46f3-9593-a3d2870f304e"
      },
      "source": [
        "np.sqrt(mean_squared_error(y_test, gbm_predict(X_test)))"
      ],
      "execution_count": null,
      "outputs": [
        {
          "output_type": "execute_result",
          "data": {
            "text/plain": [
              "6.002911096616645"
            ]
          },
          "metadata": {
            "tags": []
          },
          "execution_count": 91
        }
      ]
    },
    {
      "cell_type": "code",
      "metadata": {
        "id": "K7h0ZxwY6jCn",
        "colab_type": "code",
        "colab": {}
      },
      "source": [
        "import xgboost as xgb\n",
        "from sklearn.model_selection import cross_val_score"
      ],
      "execution_count": null,
      "outputs": []
    },
    {
      "cell_type": "code",
      "metadata": {
        "id": "sqkuJ-L46oth",
        "colab_type": "code",
        "colab": {}
      },
      "source": [
        "n_trees = range(10,55,5)\n",
        "scoring = []\n",
        "\n",
        "for n_tree in n_trees:\n",
        "  estimator = xgb.XGBClassifier(n_estimators=n_tree)\n",
        "  estimator.fit(X_train, y_train)\n",
        "  score = np.sqrt(mean_squared_error(y_test, estimator.predict(X_test)))\n",
        "  scoring.append(score)"
      ],
      "execution_count": null,
      "outputs": []
    },
    {
      "cell_type": "code",
      "metadata": {
        "id": "LGSoGId5_KDB",
        "colab_type": "code",
        "colab": {}
      },
      "source": [
        "n_trees = range(1, 10,1)\n",
        "scoring = []\n",
        "\n",
        "for n_tree in n_trees:\n",
        "  estimator = xgb.XGBClassifier(n_estimators=50, max_depth= n_tree)\n",
        "  estimator.fit(X_train, y_train)\n",
        "  score = np.sqrt(mean_squared_error(y_test, estimator.predict(X_test)))\n",
        "  scoring.append(score)"
      ],
      "execution_count": null,
      "outputs": []
    },
    {
      "cell_type": "code",
      "metadata": {
        "id": "6Qs99LM1_ElM",
        "colab_type": "code",
        "colab": {
          "base_uri": "https://localhost:8080/",
          "height": 170
        },
        "outputId": "749a7cf3-cd40-45be-faaf-03b07565dc83"
      },
      "source": [
        "scoring"
      ],
      "execution_count": null,
      "outputs": [
        {
          "output_type": "execute_result",
          "data": {
            "text/plain": [
              "[6.613009130779991,\n",
              " 5.832936619431005,\n",
              " 5.3578333263321944,\n",
              " 5.40965890318594,\n",
              " 5.577168022357432,\n",
              " 5.420070604183189,\n",
              " 5.630687850457646,\n",
              " 5.686383792000085,\n",
              " 5.68270618687076]"
            ]
          },
          "metadata": {
            "tags": []
          },
          "execution_count": 109
        }
      ]
    },
    {
      "cell_type": "code",
      "metadata": {
        "id": "BJDC8P02_Vw0",
        "colab_type": "code",
        "colab": {
          "base_uri": "https://localhost:8080/",
          "height": 170
        },
        "outputId": "2116e9d3-0b5e-4feb-8378-d72c8d1734d9"
      },
      "source": [
        "scoring"
      ],
      "execution_count": null,
      "outputs": [
        {
          "output_type": "execute_result",
          "data": {
            "text/plain": [
              "[6.321354883176163,\n",
              " 5.612689503666396,\n",
              " 5.68270618687076,\n",
              " 5.434962639948668,\n",
              " 5.56133304135352,\n",
              " 5.434600435152872,\n",
              " 5.4757662247425705,\n",
              " 5.4757662247425705,\n",
              " 5.4757662247425705]"
            ]
          },
          "metadata": {
            "tags": []
          },
          "execution_count": 114
        }
      ]
    },
    {
      "cell_type": "code",
      "metadata": {
        "id": "l35LqGS1Auay",
        "colab_type": "code",
        "colab": {}
      },
      "source": [
        "from sklearn.linear_model import LinearRegression"
      ],
      "execution_count": null,
      "outputs": []
    },
    {
      "cell_type": "code",
      "metadata": {
        "id": "WYovqGLeCfpq",
        "colab_type": "code",
        "colab": {}
      },
      "source": [
        "n_split = np.int(np.round(y.shape[0]*0.75))\n",
        "\n",
        "X_train_m = X[:n_split]\n",
        "\n",
        "y_train_m = y[:n_split]\n",
        "\n",
        "X_test_m = X[n_split:]\n",
        "\n",
        "y_test_m = y[n_split:]"
      ],
      "execution_count": null,
      "outputs": []
    },
    {
      "cell_type": "code",
      "metadata": {
        "id": "8e_9_9JFAyOH",
        "colab_type": "code",
        "colab": {
          "base_uri": "https://localhost:8080/",
          "height": 34
        },
        "outputId": "5182eae5-499f-4d82-d466-9629a87e33cc"
      },
      "source": [
        "estimator = LinearRegression()\n",
        "estimator.fit(X_train_m, y_train_m)\n",
        "np.sqrt(mean_squared_error(y_test_m, estimator.predict(X_test_m)))"
      ],
      "execution_count": null,
      "outputs": [
        {
          "output_type": "execute_result",
          "data": {
            "text/plain": [
              "7.819688142087423"
            ]
          },
          "metadata": {
            "tags": []
          },
          "execution_count": 120
        }
      ]
    }
  ]
}