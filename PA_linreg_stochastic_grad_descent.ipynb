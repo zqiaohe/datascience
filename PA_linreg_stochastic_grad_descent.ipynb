{
  "nbformat": 4,
  "nbformat_minor": 0,
  "metadata": {
    "kernelspec": {
      "display_name": "Python 3",
      "language": "python",
      "name": "python3"
    },
    "language_info": {
      "codemirror_mode": {
        "name": "ipython",
        "version": 3
      },
      "file_extension": ".py",
      "mimetype": "text/x-python",
      "name": "python",
      "nbconvert_exporter": "python",
      "pygments_lexer": "ipython3",
      "version": "3.6.5"
    },
    "colab": {
      "name": "PA_linreg_stochastic_grad_descent.ipynb",
      "provenance": [],
      "include_colab_link": true
    }
  },
  "cells": [
    {
      "cell_type": "markdown",
      "metadata": {
        "id": "view-in-github",
        "colab_type": "text"
      },
      "source": [
        "<a href=\"https://colab.research.google.com/github/zqiaohe/datascience/blob/master/PA_linreg_stochastic_grad_descent.ipynb\" target=\"_parent\"><img src=\"https://colab.research.google.com/assets/colab-badge.svg\" alt=\"Open In Colab\"/></a>"
      ]
    },
    {
      "cell_type": "markdown",
      "metadata": {
        "id": "H3FOGA0wbFKb",
        "colab_type": "text"
      },
      "source": [
        "**Корректность проверена на Python 3.6:**\n",
        "+ numpy 1.15.4\n",
        "+ pandas 0.23.4"
      ]
    },
    {
      "cell_type": "markdown",
      "metadata": {
        "id": "jlQiSGqKbFKd",
        "colab_type": "text"
      },
      "source": [
        "# Линейная регрессия и стохастический градиентный спуск"
      ]
    },
    {
      "cell_type": "markdown",
      "metadata": {
        "id": "RSDtBhbSbFKe",
        "colab_type": "text"
      },
      "source": [
        "Задание основано на материалах лекций по линейной регрессии и градиентному спуску. Вы будете прогнозировать выручку компании в зависимости от уровня ее инвестиций в рекламу по TV, в газетах и по радио."
      ]
    },
    {
      "cell_type": "markdown",
      "metadata": {
        "id": "7O9eJyTdbFKf",
        "colab_type": "text"
      },
      "source": [
        "## Вы научитесь:\n",
        "- решать задачу восстановления линейной регрессии\n",
        "- реализовывать стохастический градиентный спуск для ее настройки\n",
        "- решать задачу линейной регрессии аналитически"
      ]
    },
    {
      "cell_type": "markdown",
      "metadata": {
        "id": "EWwSZbBTbFKg",
        "colab_type": "text"
      },
      "source": [
        "## Введение\n",
        "Линейная регрессия - один из наиболее хорошо изученных методов машинного обучения, позволяющий прогнозировать значения количественного признака в виде линейной комбинации прочих признаков с параметрами - весами модели. Оптимальные (в смысле минимальности некоторого функционала ошибки) параметры линейной регрессии можно найти аналитически с помощью нормального уравнения или численно с помощью методов оптимизации.  "
      ]
    },
    {
      "cell_type": "markdown",
      "metadata": {
        "id": "dtBDHwdIbFKh",
        "colab_type": "text"
      },
      "source": [
        "Линейная регрессия использует простой функционал качества - среднеквадратичную ошибку. Мы будем работать с выборкой, содержащей 3 признака. Для настройки параметров (весов) модели решается следующая задача:\n",
        "$$\\Large \\frac{1}{\\ell}\\sum_{i=1}^\\ell{{((w_0 + w_1x_{i1} + w_2x_{i2} +  w_3x_{i3}) - y_i)}^2} \\rightarrow \\min_{w_0, w_1, w_2, w_3},$$\n",
        "где $x_{i1}, x_{i2}, x_{i3}$ - значения признаков $i$-го объекта, $y_i$ - значение целевого признака $i$-го объекта, $\\ell$ - число объектов в обучающей выборке."
      ]
    },
    {
      "cell_type": "markdown",
      "metadata": {
        "id": "18KUy7rvbFKh",
        "colab_type": "text"
      },
      "source": [
        "## Градиентный спуск\n",
        "Параметры $w_0, w_1, w_2, w_3$, по которым минимизируется среднеквадратичная ошибка, можно находить численно с помощью градиентного спуска.\n",
        "Градиентный шаг для весов будет выглядеть следующим образом:\n",
        "$$\\Large w_0 \\leftarrow w_0 - \\frac{2\\eta}{\\ell} \\sum_{i=1}^\\ell{{((w_0 + w_1x_{i1} + w_2x_{i2} +  w_3x_{i3}) - y_i)}}$$\n",
        "$$\\Large w_j \\leftarrow w_j - \\frac{2\\eta}{\\ell} \\sum_{i=1}^\\ell{{x_{ij}((w_0 + w_1x_{i1} + w_2x_{i2} +  w_3x_{i3}) - y_i)}},\\ j \\in \\{1,2,3\\}$$\n",
        "Здесь $\\eta$ - параметр, шаг градиентного спуска."
      ]
    },
    {
      "cell_type": "markdown",
      "metadata": {
        "id": "FbUS3D7kbFKi",
        "colab_type": "text"
      },
      "source": [
        "## Стохастический градиентный спуск\n",
        "Проблема градиентного спуска, описанного выше, в том, что на больших выборках считать на каждом шаге градиент по всем имеющимся данным может быть очень вычислительно сложно. \n",
        "В стохастическом варианте градиентного спуска поправки для весов вычисляются только с учетом одного случайно взятого объекта обучающей выборки:\n",
        "$$\\Large w_0 \\leftarrow w_0 - \\frac{2\\eta}{\\ell} {((w_0 + w_1x_{k1} + w_2x_{k2} +  w_3x_{k3}) - y_k)}$$\n",
        "$$\\Large w_j \\leftarrow w_j - \\frac{2\\eta}{\\ell} {x_{kj}((w_0 + w_1x_{k1} + w_2x_{k2} +  w_3x_{k3}) - y_k)},\\ j \\in \\{1,2,3\\},$$\n",
        "где $k$ - случайный индекс, $k \\in \\{1, \\ldots, \\ell\\}$."
      ]
    },
    {
      "cell_type": "markdown",
      "metadata": {
        "id": "Nl0ZubSFbFKj",
        "colab_type": "text"
      },
      "source": [
        "## Нормальное уравнение \n",
        "Нахождение вектора оптимальных весов $w$ может быть сделано и аналитически.\n",
        "Мы хотим найти такой вектор весов $w$, чтобы вектор $y$, приближающий целевой признак, получался умножением матрицы $X$ (состоящей из всех признаков объектов обучающей выборки, кроме целевого) на вектор весов $w$. То есть, чтобы выполнялось матричное уравнение:\n",
        "$$\\Large y = Xw$$\n",
        "Домножением слева на $X^T$ получаем:\n",
        "$$\\Large X^Ty = X^TXw$$\n",
        "Это хорошо, поскольку теперь матрица $X^TX$ - квадратная, и можно найти решение (вектор $w$) в виде:\n",
        "$$\\Large w = {(X^TX)}^{-1}X^Ty$$\n",
        "Матрица ${(X^TX)}^{-1}X^T$ - [*псевдообратная*](https://ru.wikipedia.org/wiki/Псевдообратная_матрица) для матрицы $X$. В NumPy такую матрицу можно вычислить с помощью функции [numpy.linalg.pinv](http://docs.scipy.org/doc/numpy-1.10.0/reference/generated/numpy.linalg.pinv.html).\n",
        "\n",
        "Однако, нахождение псевдообратной матрицы - операция вычислительно сложная и нестабильная в случае малого определителя матрицы $X$ (проблема мультиколлинеарности). \n",
        "На практике лучше находить вектор весов $w$ решением матричного уравнения \n",
        "$$\\Large X^TXw = X^Ty$$Это может быть сделано с помощью функции [numpy.linalg.solve](http://docs.scipy.org/doc/numpy-1.10.1/reference/generated/numpy.linalg.solve.html).\n",
        "\n",
        "Но все же на практике для больших матриц $X$ быстрее работает градиентный спуск, особенно его стохастическая версия."
      ]
    },
    {
      "cell_type": "markdown",
      "metadata": {
        "id": "BFhe_x9wbFKk",
        "colab_type": "text"
      },
      "source": [
        "## Инструкции по выполнению"
      ]
    },
    {
      "cell_type": "markdown",
      "metadata": {
        "id": "FeAK4kXmbFKl",
        "colab_type": "text"
      },
      "source": [
        "**1. Загрузите данные из файла *advertising.csv* в объект pandas DataFrame. [Источник данных](http://www-bcf.usc.edu/~gareth/ISL/data.html).**"
      ]
    },
    {
      "cell_type": "code",
      "metadata": {
        "id": "cEom2-CHgZvs",
        "colab_type": "code",
        "colab": {
          "base_uri": "https://localhost:8080/",
          "height": 125
        },
        "outputId": "0c8927cf-7c03-4bd0-a57b-f23868c23f6d"
      },
      "source": [
        "from google.colab import drive\n",
        "drive.mount('/content/drive')"
      ],
      "execution_count": 2,
      "outputs": [
        {
          "output_type": "stream",
          "text": [
            "Go to this URL in a browser: https://accounts.google.com/o/oauth2/auth?client_id=947318989803-6bn6qk8qdgf4n4g3pfee6491hc0brc4i.apps.googleusercontent.com&redirect_uri=urn%3aietf%3awg%3aoauth%3a2.0%3aoob&response_type=code&scope=email%20https%3a%2f%2fwww.googleapis.com%2fauth%2fdocs.test%20https%3a%2f%2fwww.googleapis.com%2fauth%2fdrive%20https%3a%2f%2fwww.googleapis.com%2fauth%2fdrive.photos.readonly%20https%3a%2f%2fwww.googleapis.com%2fauth%2fpeopleapi.readonly\n",
            "\n",
            "Enter your authorization code:\n",
            "··········\n",
            "Mounted at /content/drive\n"
          ],
          "name": "stdout"
        }
      ]
    },
    {
      "cell_type": "code",
      "metadata": {
        "id": "KLhrivP0bFKm",
        "colab_type": "code",
        "colab": {}
      },
      "source": [
        "import pandas as pd\n",
        "adver_data = pd.read_csv('/content/drive/My Drive/datascience/_739f9073ae55f970a4924e22bcc93124_advertising.csv')"
      ],
      "execution_count": 3,
      "outputs": []
    },
    {
      "cell_type": "markdown",
      "metadata": {
        "collapsed": true,
        "id": "9GDBJZqebFKr",
        "colab_type": "text"
      },
      "source": [
        "**Посмотрите на первые 5 записей и на статистику признаков в этом наборе данных.**"
      ]
    },
    {
      "cell_type": "code",
      "metadata": {
        "id": "-YQ0Oy8ZbFKs",
        "colab_type": "code",
        "colab": {
          "base_uri": "https://localhost:8080/",
          "height": 197
        },
        "outputId": "000eb8aa-427a-431c-aaee-4cc90f8530d3"
      },
      "source": [
        "adver_data.head(5)"
      ],
      "execution_count": 4,
      "outputs": [
        {
          "output_type": "execute_result",
          "data": {
            "text/html": [
              "<div>\n",
              "<style scoped>\n",
              "    .dataframe tbody tr th:only-of-type {\n",
              "        vertical-align: middle;\n",
              "    }\n",
              "\n",
              "    .dataframe tbody tr th {\n",
              "        vertical-align: top;\n",
              "    }\n",
              "\n",
              "    .dataframe thead th {\n",
              "        text-align: right;\n",
              "    }\n",
              "</style>\n",
              "<table border=\"1\" class=\"dataframe\">\n",
              "  <thead>\n",
              "    <tr style=\"text-align: right;\">\n",
              "      <th></th>\n",
              "      <th>TV</th>\n",
              "      <th>Radio</th>\n",
              "      <th>Newspaper</th>\n",
              "      <th>Sales</th>\n",
              "    </tr>\n",
              "  </thead>\n",
              "  <tbody>\n",
              "    <tr>\n",
              "      <th>1</th>\n",
              "      <td>230.1</td>\n",
              "      <td>37.8</td>\n",
              "      <td>69.2</td>\n",
              "      <td>22.1</td>\n",
              "    </tr>\n",
              "    <tr>\n",
              "      <th>2</th>\n",
              "      <td>44.5</td>\n",
              "      <td>39.3</td>\n",
              "      <td>45.1</td>\n",
              "      <td>10.4</td>\n",
              "    </tr>\n",
              "    <tr>\n",
              "      <th>3</th>\n",
              "      <td>17.2</td>\n",
              "      <td>45.9</td>\n",
              "      <td>69.3</td>\n",
              "      <td>9.3</td>\n",
              "    </tr>\n",
              "    <tr>\n",
              "      <th>4</th>\n",
              "      <td>151.5</td>\n",
              "      <td>41.3</td>\n",
              "      <td>58.5</td>\n",
              "      <td>18.5</td>\n",
              "    </tr>\n",
              "    <tr>\n",
              "      <th>5</th>\n",
              "      <td>180.8</td>\n",
              "      <td>10.8</td>\n",
              "      <td>58.4</td>\n",
              "      <td>12.9</td>\n",
              "    </tr>\n",
              "  </tbody>\n",
              "</table>\n",
              "</div>"
            ],
            "text/plain": [
              "      TV  Radio  Newspaper  Sales\n",
              "1  230.1   37.8       69.2   22.1\n",
              "2   44.5   39.3       45.1   10.4\n",
              "3   17.2   45.9       69.3    9.3\n",
              "4  151.5   41.3       58.5   18.5\n",
              "5  180.8   10.8       58.4   12.9"
            ]
          },
          "metadata": {
            "tags": []
          },
          "execution_count": 4
        }
      ]
    },
    {
      "cell_type": "code",
      "metadata": {
        "id": "4qMiMQ2CbFKw",
        "colab_type": "code",
        "colab": {
          "base_uri": "https://localhost:8080/",
          "height": 287
        },
        "outputId": "395a0e7e-765a-497a-fb1e-34120d8aad3e"
      },
      "source": [
        "adver_data.describe()"
      ],
      "execution_count": 5,
      "outputs": [
        {
          "output_type": "execute_result",
          "data": {
            "text/html": [
              "<div>\n",
              "<style scoped>\n",
              "    .dataframe tbody tr th:only-of-type {\n",
              "        vertical-align: middle;\n",
              "    }\n",
              "\n",
              "    .dataframe tbody tr th {\n",
              "        vertical-align: top;\n",
              "    }\n",
              "\n",
              "    .dataframe thead th {\n",
              "        text-align: right;\n",
              "    }\n",
              "</style>\n",
              "<table border=\"1\" class=\"dataframe\">\n",
              "  <thead>\n",
              "    <tr style=\"text-align: right;\">\n",
              "      <th></th>\n",
              "      <th>TV</th>\n",
              "      <th>Radio</th>\n",
              "      <th>Newspaper</th>\n",
              "      <th>Sales</th>\n",
              "    </tr>\n",
              "  </thead>\n",
              "  <tbody>\n",
              "    <tr>\n",
              "      <th>count</th>\n",
              "      <td>200.000000</td>\n",
              "      <td>200.000000</td>\n",
              "      <td>200.000000</td>\n",
              "      <td>200.000000</td>\n",
              "    </tr>\n",
              "    <tr>\n",
              "      <th>mean</th>\n",
              "      <td>147.042500</td>\n",
              "      <td>23.264000</td>\n",
              "      <td>30.554000</td>\n",
              "      <td>14.022500</td>\n",
              "    </tr>\n",
              "    <tr>\n",
              "      <th>std</th>\n",
              "      <td>85.854236</td>\n",
              "      <td>14.846809</td>\n",
              "      <td>21.778621</td>\n",
              "      <td>5.217457</td>\n",
              "    </tr>\n",
              "    <tr>\n",
              "      <th>min</th>\n",
              "      <td>0.700000</td>\n",
              "      <td>0.000000</td>\n",
              "      <td>0.300000</td>\n",
              "      <td>1.600000</td>\n",
              "    </tr>\n",
              "    <tr>\n",
              "      <th>25%</th>\n",
              "      <td>74.375000</td>\n",
              "      <td>9.975000</td>\n",
              "      <td>12.750000</td>\n",
              "      <td>10.375000</td>\n",
              "    </tr>\n",
              "    <tr>\n",
              "      <th>50%</th>\n",
              "      <td>149.750000</td>\n",
              "      <td>22.900000</td>\n",
              "      <td>25.750000</td>\n",
              "      <td>12.900000</td>\n",
              "    </tr>\n",
              "    <tr>\n",
              "      <th>75%</th>\n",
              "      <td>218.825000</td>\n",
              "      <td>36.525000</td>\n",
              "      <td>45.100000</td>\n",
              "      <td>17.400000</td>\n",
              "    </tr>\n",
              "    <tr>\n",
              "      <th>max</th>\n",
              "      <td>296.400000</td>\n",
              "      <td>49.600000</td>\n",
              "      <td>114.000000</td>\n",
              "      <td>27.000000</td>\n",
              "    </tr>\n",
              "  </tbody>\n",
              "</table>\n",
              "</div>"
            ],
            "text/plain": [
              "               TV       Radio   Newspaper       Sales\n",
              "count  200.000000  200.000000  200.000000  200.000000\n",
              "mean   147.042500   23.264000   30.554000   14.022500\n",
              "std     85.854236   14.846809   21.778621    5.217457\n",
              "min      0.700000    0.000000    0.300000    1.600000\n",
              "25%     74.375000    9.975000   12.750000   10.375000\n",
              "50%    149.750000   22.900000   25.750000   12.900000\n",
              "75%    218.825000   36.525000   45.100000   17.400000\n",
              "max    296.400000   49.600000  114.000000   27.000000"
            ]
          },
          "metadata": {
            "tags": []
          },
          "execution_count": 5
        }
      ]
    },
    {
      "cell_type": "markdown",
      "metadata": {
        "id": "R-uz-VX8bFK0",
        "colab_type": "text"
      },
      "source": [
        "**Создайте массивы NumPy *X* из столбцов TV, Radio и Newspaper и *y* - из столбца Sales. Используйте атрибут *values* объекта pandas DataFrame.**"
      ]
    },
    {
      "cell_type": "code",
      "metadata": {
        "id": "8anWUnxGbFK1",
        "colab_type": "code",
        "colab": {}
      },
      "source": [
        "X = adver_data[['TV', 'Radio', 'Newspaper']].values\n",
        "y = adver_data[['Sales']].values"
      ],
      "execution_count": 6,
      "outputs": []
    },
    {
      "cell_type": "markdown",
      "metadata": {
        "id": "xoSCg34CbFK5",
        "colab_type": "text"
      },
      "source": [
        "**Отмасштабируйте столбцы матрицы *X*, вычтя из каждого значения среднее по соответствующему столбцу и поделив результат на стандартное отклонение. Для определенности, используйте методы mean и std векторов NumPy (реализация std в Pandas может отличаться). Обратите внимание, что в numpy вызов функции .mean() без параметров возвращает среднее по всем элементам массива, а не по столбцам, как в pandas. Чтобы произвести вычисление по столбцам, необходимо указать параметр axis.**"
      ]
    },
    {
      "cell_type": "code",
      "metadata": {
        "id": "CBY7VQaDbFK6",
        "colab_type": "code",
        "colab": {}
      },
      "source": [
        "means, stds = X.mean(axis = 0), X.std(axis = 0)"
      ],
      "execution_count": 8,
      "outputs": []
    },
    {
      "cell_type": "code",
      "metadata": {
        "id": "nCiwW6NMbFK_",
        "colab_type": "code",
        "colab": {}
      },
      "source": [
        "X = (X - means)/stds"
      ],
      "execution_count": 9,
      "outputs": []
    },
    {
      "cell_type": "markdown",
      "metadata": {
        "id": "rJplOl_-bFLD",
        "colab_type": "text"
      },
      "source": [
        "**Добавьте к матрице *X* столбец из единиц, используя методы *hstack*, *ones* и *reshape* библиотеки NumPy. Вектор из единиц нужен для того, чтобы не обрабатывать отдельно коэффициент $w_0$ линейной регрессии.**"
      ]
    },
    {
      "cell_type": "code",
      "metadata": {
        "id": "wrZ95_4ibFLE",
        "colab_type": "code",
        "colab": {}
      },
      "source": [
        "import numpy as np\n",
        "X = np.hstack((X,np.reshape(np.ones(200), (200,1)))) # Ваш код здесь"
      ],
      "execution_count": 10,
      "outputs": []
    },
    {
      "cell_type": "markdown",
      "metadata": {
        "id": "J9l2h_9gbFLH",
        "colab_type": "text"
      },
      "source": [
        "**2. Реализуйте функцию *mserror* - среднеквадратичную ошибку прогноза. Она принимает два аргумента - объекты Series *y* (значения целевого признака) и *y\\_pred* (предсказанные значения). Не используйте в этой функции циклы - тогда она будет вычислительно неэффективной.**"
      ]
    },
    {
      "cell_type": "code",
      "metadata": {
        "id": "IcBmRCzFbFLI",
        "colab_type": "code",
        "colab": {}
      },
      "source": [
        "def mserror(y, y_pred):\n",
        "    return np.sum(np.power(y-y_pred,2))/len(y)"
      ],
      "execution_count": 11,
      "outputs": []
    },
    {
      "cell_type": "markdown",
      "metadata": {
        "id": "NBtmYpb3bFLM",
        "colab_type": "text"
      },
      "source": [
        "**Какова среднеквадратичная ошибка прогноза значений Sales, если всегда предсказывать медианное значение Sales по исходной выборке? Полученный результат, округленный до 3 знаков после запятой, является ответом на *'1 задание'.***"
      ]
    },
    {
      "cell_type": "code",
      "metadata": {
        "id": "dYIMHJ4ubFLN",
        "colab_type": "code",
        "colab": {
          "base_uri": "https://localhost:8080/",
          "height": 34
        },
        "outputId": "6eab890b-a9c4-46be-8fb7-d64507e91598"
      },
      "source": [
        "answer1 = mserror(y, np.median(y))\n",
        "print(round(answer1, 3))"
      ],
      "execution_count": 12,
      "outputs": [
        {
          "output_type": "stream",
          "text": [
            "28.346\n"
          ],
          "name": "stdout"
        }
      ]
    },
    {
      "cell_type": "markdown",
      "metadata": {
        "id": "ciFDqJZCbFLR",
        "colab_type": "text"
      },
      "source": [
        "**3. Реализуйте функцию *normal_equation*, которая по заданным матрицам (массивам NumPy) *X* и *y* вычисляет вектор весов $w$ согласно нормальному уравнению линейной регрессии.**"
      ]
    },
    {
      "cell_type": "code",
      "metadata": {
        "id": "RFsPxdTSbFLS",
        "colab_type": "code",
        "colab": {}
      },
      "source": [
        "def normal_equation(X, y):\n",
        "    return np.linalg.solve(np.matmul(X.T, X), np.matmul(X.T, y))  # Ваш код здесь"
      ],
      "execution_count": 13,
      "outputs": []
    },
    {
      "cell_type": "code",
      "metadata": {
        "id": "LAaoQk_YbFLV",
        "colab_type": "code",
        "colab": {
          "base_uri": "https://localhost:8080/",
          "height": 87
        },
        "outputId": "8fc875a5-6c45-45e1-9040-57a43533213a"
      },
      "source": [
        "norm_eq_weights = normal_equation(X, y)\n",
        "print(norm_eq_weights)"
      ],
      "execution_count": 14,
      "outputs": [
        {
          "output_type": "stream",
          "text": [
            "[[ 3.91925365]\n",
            " [ 2.79206274]\n",
            " [-0.02253861]\n",
            " [14.0225    ]]\n"
          ],
          "name": "stdout"
        }
      ]
    },
    {
      "cell_type": "markdown",
      "metadata": {
        "id": "0L61meBxbFLZ",
        "colab_type": "text"
      },
      "source": [
        "**Какие продажи предсказываются линейной моделью с весами, найденными с помощью нормального уравнения, в случае средних инвестиций в рекламу по ТВ, радио и в газетах? (то есть при нулевых значениях масштабированных признаков TV, Radio и Newspaper). Полученный результат, округленный до 3 знаков после запятой, является ответом на *'2 задание'*.**"
      ]
    },
    {
      "cell_type": "code",
      "metadata": {
        "id": "XUBXYzt1bFLa",
        "colab_type": "code",
        "colab": {
          "base_uri": "https://localhost:8080/",
          "height": 34
        },
        "outputId": "2ea6c198-24a2-4e92-ec64-dc40fcb24f10"
      },
      "source": [
        "answer2 = 14.0225 \n",
        "print(round(answer2, 3))"
      ],
      "execution_count": 15,
      "outputs": [
        {
          "output_type": "stream",
          "text": [
            "14.023\n"
          ],
          "name": "stdout"
        }
      ]
    },
    {
      "cell_type": "markdown",
      "metadata": {
        "id": "J1VBkP9DbFLe",
        "colab_type": "text"
      },
      "source": [
        "**4. Напишите функцию *linear_prediction*, которая принимает на вход матрицу *X* и вектор весов линейной модели *w*, а возвращает вектор прогнозов в виде линейной комбинации столбцов матрицы *X* с весами *w*.**"
      ]
    },
    {
      "cell_type": "code",
      "metadata": {
        "id": "5_TltJ4cbFLe",
        "colab_type": "code",
        "colab": {}
      },
      "source": [
        "def linear_prediction(X, w):\n",
        "    return np.sum(X*w.reshape(1,4), axis = 1).reshape(200,1)"
      ],
      "execution_count": 16,
      "outputs": []
    },
    {
      "cell_type": "markdown",
      "metadata": {
        "id": "vZdc_O1WbFLi",
        "colab_type": "text"
      },
      "source": [
        "**Какова среднеквадратичная ошибка прогноза значений Sales в виде линейной модели с весами, найденными с помощью нормального уравнения?\n",
        "Полученный результат, округленный до 3 знаков после запятой, является ответом на *'3 задание'***"
      ]
    },
    {
      "cell_type": "code",
      "metadata": {
        "id": "el2zzrK5bFLj",
        "colab_type": "code",
        "colab": {
          "base_uri": "https://localhost:8080/",
          "height": 34
        },
        "outputId": "b3c2bffd-abe7-49e2-86ec-5272f0c55f73"
      },
      "source": [
        "answer3 = mserror(y,linear_prediction(X, norm_eq_weights))\n",
        "print(round(answer3, 3))"
      ],
      "execution_count": 17,
      "outputs": [
        {
          "output_type": "stream",
          "text": [
            "2.784\n"
          ],
          "name": "stdout"
        }
      ]
    },
    {
      "cell_type": "markdown",
      "metadata": {
        "id": "MyD7rv-qbFLn",
        "colab_type": "text"
      },
      "source": [
        "**5. Напишите функцию *stochastic_gradient_step*, реализующую шаг стохастического градиентного спуска для линейной регрессии. Функция должна принимать матрицу *X*, вектора *y* и *w*, число *train_ind* - индекс объекта обучающей выборки (строки матрицы *X*), по которому считается изменение весов, а также число *$\\eta$* (eta) - шаг градиентного спуска (по умолчанию *eta*=0.01). Результатом будет вектор обновленных весов. Наша реализация функции будет явно написана для данных с 3 признаками, но несложно модифицировать для любого числа признаков, можете это сделать.**"
      ]
    },
    {
      "cell_type": "code",
      "metadata": {
        "id": "CX40f2gGiFs9",
        "colab_type": "code",
        "colab": {
          "base_uri": "https://localhost:8080/",
          "height": 34
        },
        "outputId": "be31a221-e78e-44b9-8870-027a4dc4af13"
      },
      "source": [
        "norm_eq_weights[0]"
      ],
      "execution_count": 19,
      "outputs": [
        {
          "output_type": "execute_result",
          "data": {
            "text/plain": [
              "array([3.91925365])"
            ]
          },
          "metadata": {
            "tags": []
          },
          "execution_count": 19
        }
      ]
    },
    {
      "cell_type": "code",
      "metadata": {
        "id": "RWKHLWSmbFLo",
        "colab_type": "code",
        "colab": {}
      },
      "source": [
        "def stochastic_gradient_step(X, y, w, train_ind, eta=0.01):\n",
        "    grads = np.array(w*X[train_ind])   \n",
        "    err  = 2 * eta * (np.sum(np.array(grads)) - y[train_ind]) / len(y) \n",
        "    return  w - X[train_ind]*err, err"
      ],
      "execution_count": 119,
      "outputs": []
    },
    {
      "cell_type": "markdown",
      "metadata": {
        "id": "blbNq7EPbFLr",
        "colab_type": "text"
      },
      "source": [
        "**6. Напишите функцию *stochastic_gradient_descent*, реализующую стохастический градиентный спуск для линейной регрессии. Функция принимает на вход следующие аргументы:**\n",
        "- X - матрица, соответствующая обучающей выборке\n",
        "- y - вектор значений целевого признака\n",
        "- w_init - вектор начальных весов модели\n",
        "- eta - шаг градиентного спуска (по умолчанию 0.01)\n",
        "- max_iter - максимальное число итераций градиентного спуска (по умолчанию 10000)\n",
        "- max_weight_dist - максимальное евклидово расстояние между векторами весов на соседних итерациях градиентного спуска,\n",
        "при котором алгоритм прекращает работу (по умолчанию 1e-8)\n",
        "- seed - число, используемое для воспроизводимости сгенерированных псевдослучайных чисел (по умолчанию 42)\n",
        "- verbose - флаг печати информации (например, для отладки, по умолчанию False)\n",
        "\n",
        "**На каждой итерации в вектор (список) должно записываться текущее значение среднеквадратичной ошибки. Функция должна возвращать вектор весов $w$, а также вектор (список) ошибок.**"
      ]
    },
    {
      "cell_type": "code",
      "metadata": {
        "id": "i6fXvGxCbFLs",
        "colab_type": "code",
        "colab": {}
      },
      "source": [
        "def stochastic_gradient_descent(X, y, w_init, eta=1e-2, max_iter=1e4,\n",
        "                                min_weight_dist=1e-8, seed=42, verbose=False):\n",
        "    # Инициализируем расстояние между векторами весов на соседних\n",
        "    # итерациях большим числом. \n",
        "    weight_dist = np.inf\n",
        "    # Инициализируем вектор весов\n",
        "    w = w_init\n",
        "    # Сюда будем записывать ошибки на каждой итерации\n",
        "    errors = []\n",
        "    # Счетчик итераций\n",
        "    iter_num = 0\n",
        "    # Будем порождать псевдослучайные числа \n",
        "    # (номер объекта, который будет менять веса), а для воспроизводимости\n",
        "    # этой последовательности псевдослучайных чисел используем seed.\n",
        "    np.random.seed(seed)\n",
        "    print(w)    \n",
        "    # Основной цикл\n",
        "    while weight_dist > min_weight_dist and iter_num < max_iter:\n",
        "        # порождаем псевдослучайный \n",
        "        # индекс объекта обучающей выборки\n",
        "        random_ind = np.random.randint(X.shape[0])\n",
        "        w, err = stochastic_gradient_step(X, y, w, random_ind, eta)\n",
        "        errors.append(err)\n",
        "        iter_num += 1\n",
        "    return w, errors"
      ],
      "execution_count": 128,
      "outputs": []
    },
    {
      "cell_type": "markdown",
      "metadata": {
        "id": "tyqW1MdubFLv",
        "colab_type": "text"
      },
      "source": [
        " **Запустите $10^5$ итераций стохастического градиентного спуска. Укажите вектор начальных весов *w_init*, состоящий из нулей. Оставьте параметры  *eta* и *seed* равными их значениям по умолчанию (*eta*=0.01, *seed*=42 - это важно для проверки ответов).**"
      ]
    },
    {
      "cell_type": "code",
      "metadata": {
        "id": "Y1Zw9KzNbFLv",
        "colab_type": "code",
        "colab": {
          "base_uri": "https://localhost:8080/",
          "height": 70
        },
        "outputId": "9ddb9e8e-87e6-4447-eaad-66b34b14a29d"
      },
      "source": [
        "%%time\n",
        "stoch_grad_desc_weights, stoch_errors_by_iter =stochastic_gradient_descent(X, y, [0,0,0,0], eta=0.01, max_iter=1e5,\n",
        "                                min_weight_dist=1e-8, seed=42, verbose=False)"
      ],
      "execution_count": 129,
      "outputs": [
        {
          "output_type": "stream",
          "text": [
            "[0, 0, 0, 0]\n",
            "CPU times: user 2.14 s, sys: 20.9 ms, total: 2.16 s\n",
            "Wall time: 2.14 s\n"
          ],
          "name": "stdout"
        }
      ]
    },
    {
      "cell_type": "code",
      "metadata": {
        "id": "FsgNa9YLu1rp",
        "colab_type": "code",
        "colab": {
          "base_uri": "https://localhost:8080/",
          "height": 34
        },
        "outputId": "92a602c0-1685-4181-c1a0-94c1760d21d8"
      },
      "source": [
        "stoch_grad_desc_weights"
      ],
      "execution_count": 130,
      "outputs": [
        {
          "output_type": "execute_result",
          "data": {
            "text/plain": [
              "array([ 3.94909052,  2.76783147, -0.04537642, 14.01961682])"
            ]
          },
          "metadata": {
            "tags": []
          },
          "execution_count": 130
        }
      ]
    },
    {
      "cell_type": "markdown",
      "metadata": {
        "id": "6dUUf3JLbFLy",
        "colab_type": "text"
      },
      "source": [
        "**Посмотрим, чему равна ошибка на первых 50 итерациях стохастического градиентного спуска. Видим, что ошибка не обязательно уменьшается на каждой итерации.**"
      ]
    },
    {
      "cell_type": "code",
      "metadata": {
        "id": "_LNDXk38bFLz",
        "colab_type": "code",
        "colab": {
          "base_uri": "https://localhost:8080/",
          "height": 314
        },
        "outputId": "a143eab2-4620-4b6f-97f8-e94d733d5cf4"
      },
      "source": [
        "%pylab inline\n",
        "plot(range(50), stoch_errors_by_iter[:50])\n",
        "xlabel('Iteration number')\n",
        "ylabel('MSE')"
      ],
      "execution_count": 131,
      "outputs": [
        {
          "output_type": "stream",
          "text": [
            "Populating the interactive namespace from numpy and matplotlib\n"
          ],
          "name": "stdout"
        },
        {
          "output_type": "execute_result",
          "data": {
            "text/plain": [
              "Text(0, 0.5, 'MSE')"
            ]
          },
          "metadata": {
            "tags": []
          },
          "execution_count": 131
        },
        {
          "output_type": "display_data",
          "data": {
            "image/png": "[encoded data removed]",
            "text/plain": [
              "<Figure size 432x288 with 1 Axes>"
            ]
          },
          "metadata": {
            "tags": [],
            "needs_background": "light"
          }
        }
      ]
    },
    {
      "cell_type": "markdown",
      "metadata": {
        "id": "FoJ7lmvnbFL2",
        "colab_type": "text"
      },
      "source": [
        "**Теперь посмотрим на зависимость ошибки от номера итерации для $10^5$ итераций стохастического градиентного спуска. Видим, что алгоритм сходится.**"
      ]
    },
    {
      "cell_type": "code",
      "metadata": {
        "id": "XkpmyGzSbFL3",
        "colab_type": "code",
        "colab": {
          "base_uri": "https://localhost:8080/",
          "height": 315
        },
        "outputId": "6f324e90-dfdb-4382-ce3f-969a3a1b368a"
      },
      "source": [
        "%pylab inline\n",
        "plot(range(len(stoch_errors_by_iter)), stoch_errors_by_iter)\n",
        "xlabel('Iteration number')\n",
        "ylabel('MSE')"
      ],
      "execution_count": 132,
      "outputs": [
        {
          "output_type": "stream",
          "text": [
            "Populating the interactive namespace from numpy and matplotlib\n"
          ],
          "name": "stdout"
        },
        {
          "output_type": "execute_result",
          "data": {
            "text/plain": [
              "Text(0, 0.5, 'MSE')"
            ]
          },
          "metadata": {
            "tags": []
          },
          "execution_count": 132
        },
        {
          "output_type": "display_data",
          "data": {
            "image/png": "[encoded data removed]",
            "text/plain": [
              "<Figure size 432x288 with 1 Axes>"
            ]
          },
          "metadata": {
            "tags": [],
            "needs_background": "light"
          }
        }
      ]
    },
    {
      "cell_type": "markdown",
      "metadata": {
        "id": "CMmnFRVCbFL6",
        "colab_type": "text"
      },
      "source": [
        "**Посмотрим на вектор весов, к которому сошелся метод.**"
      ]
    },
    {
      "cell_type": "code",
      "metadata": {
        "id": "DP5ZIWDjbFL7",
        "colab_type": "code",
        "colab": {
          "base_uri": "https://localhost:8080/",
          "height": 34
        },
        "outputId": "0c7d5220-3bcc-4b8a-d5a5-6524f0d41f93"
      },
      "source": [
        "stoch_grad_desc_weights"
      ],
      "execution_count": 133,
      "outputs": [
        {
          "output_type": "execute_result",
          "data": {
            "text/plain": [
              "array([ 3.94909052,  2.76783147, -0.04537642, 14.01961682])"
            ]
          },
          "metadata": {
            "tags": []
          },
          "execution_count": 133
        }
      ]
    },
    {
      "cell_type": "markdown",
      "metadata": {
        "id": "Re22BrQCbFL_",
        "colab_type": "text"
      },
      "source": [
        "**Посмотрим на среднеквадратичную ошибку на последней итерации.**"
      ]
    },
    {
      "cell_type": "code",
      "metadata": {
        "id": "OSHtQ9sLbFMA",
        "colab_type": "code",
        "colab": {
          "base_uri": "https://localhost:8080/",
          "height": 34
        },
        "outputId": "d1b829e4-9e51-4360-9a8a-c74f14861197"
      },
      "source": [
        "stoch_errors_by_iter[-1]"
      ],
      "execution_count": 134,
      "outputs": [
        {
          "output_type": "execute_result",
          "data": {
            "text/plain": [
              "array([0.00030343])"
            ]
          },
          "metadata": {
            "tags": []
          },
          "execution_count": 134
        }
      ]
    },
    {
      "cell_type": "markdown",
      "metadata": {
        "id": "_E0q4s8WbFMD",
        "colab_type": "text"
      },
      "source": [
        "**Какова среднеквадратичная ошибка прогноза значений Sales в виде линейной модели с весами, найденными с помощью градиентного спуска? Полученный результат, округленный до 3 знаков после запятой, является ответом на *'4 задание'*.**"
      ]
    },
    {
      "cell_type": "code",
      "metadata": {
        "id": "swZo0r4NbFME",
        "colab_type": "code",
        "colab": {
          "base_uri": "https://localhost:8080/",
          "height": 34
        },
        "outputId": "7eea7cd3-03cf-4607-83e2-85f19c95ca3a"
      },
      "source": [
        "answer4 =  mserror(y,linear_prediction(X, norm_eq_weights))\n",
        "print(round(answer4, 3))"
      ],
      "execution_count": 135,
      "outputs": [
        {
          "output_type": "stream",
          "text": [
            "2.784\n"
          ],
          "name": "stdout"
        }
      ]
    }
  ]
}